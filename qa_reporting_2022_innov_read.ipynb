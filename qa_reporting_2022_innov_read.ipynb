{
 "cells": [
  {
   "cell_type": "code",
   "execution_count": 1,
   "metadata": {},
   "outputs": [],
   "source": [
    "import glob\n",
    "import json\n",
    "import os\n",
    "\n",
    "import boto3\n",
    "\n",
    "from langchain.chains import LLMChain, StuffDocumentsChain\n",
    "from langchain.chat_models import AzureChatOpenAI, ChatOpenAI\n",
    "from langchain.document_loaders import (\n",
    "    PDFPlumberLoader,\n",
    "    PyPDFLoader,\n",
    ")\n",
    "from langchain.llms.bedrock import Bedrock, LLMInputOutputAdapter\n",
    "from langchain.output_parsers import (\n",
    "    PydanticOutputParser,\n",
    ")\n",
    "from langchain.prompts import PromptTemplate\n",
    "\n",
    "from langchain.schema.document import Document\n",
    "\n",
    "from utils import InnovationProfile, Readiness\n",
    "\n",
    "VERBOSE = True\n",
    "\n",
    "AZURE_OPENAI_API_BASE = \"https://so-azure-openai-dev.openai.azure.com/\"\n",
    "AZURE_OPENAI_API_VERSION = \"2023-07-01-preview\"\n",
    "AZURE_DEPLOYMENT_NAME = \"gpt35-baseline\"\n",
    "AZURE_OPENAI_API_KEY = \"\"\n",
    "AZURE_OPENAI_API_TYPE = \"azure\"\n",
    "\n",
    "OPENAI_API_KEY = \"\"\n",
    "\n",
    "session = boto3.Session(region_name='us-east-1')\n",
    "boto3_bedrock = boto3.client(service_name='bedrock', region_name='us-east-1')\n",
    "boto3_bedrock_stream = boto3.client(service_name='bedrock-runtime', region_name='us-east-1')"
   ]
  },
  {
   "cell_type": "markdown",
   "metadata": {},
   "source": [
    "### Create Custom Bedrock class"
   ]
  },
  {
   "cell_type": "code",
   "execution_count": 2,
   "metadata": {},
   "outputs": [],
   "source": [
    "from typing import Any, Iterator\n",
    "from langchain.schema.output import GenerationChunk\n",
    "\n",
    "class NewBedrock(Bedrock):\n",
    "    def __init__(self, *args, **kwargs):\n",
    "        super().__init__(*args, **kwargs)\n",
    "\n",
    "    def _prepare_input_and_invoke_stream(self, prompt, stop=None, run_manager=None, **kwargs) -> Iterator[GenerationChunk]:\n",
    "        _model_kwargs = {\"prompt\": Any, \"max_tokens_to_sample\": 8192, \"temperature\": 0.0}  #  \"max_tokens_to_sample\": Any\n",
    "        provider = \"anthropic\"\n",
    "        # _model_kwargs[self.provider_stop_sequence_key_name_map.get(provider)] = stop\n",
    "        model_kwargs = {**_model_kwargs, **kwargs}\n",
    "        input_body = LLMInputOutputAdapter.prepare_input(provider, prompt, model_kwargs)\n",
    "        body = json.dumps(input_body)\n",
    "        try:\n",
    "            response = boto3_bedrock_stream.invoke_model(\n",
    "                body=body,\n",
    "                modelId=\"anthropic.claude-v2\",\n",
    "                accept=\"application/json\",\n",
    "                contentType=\"application/json\",\n",
    "            )\n",
    "        except Exception as e:\n",
    "            raise ValueError(f\"Error raised by bedrock service: {e}\")\n",
    "\n",
    "        for chunk in LLMInputOutputAdapter.prepare_output_stream(\n",
    "            provider, response, stop\n",
    "        ):\n",
    "            yield chunk\n",
    "\n",
    "\n",
    "    def _prepare_input_and_invoke(self, prompt, stop=None, run_manager=None, **kwargs):\n",
    "        _model_kwargs = {\"prompt\": Any, \"max_tokens_to_sample\": 8192, \"temperature\": 0.2}  # \"max_tokens_to_sample\": Any\n",
    "       # _model_kwargs = {\"prompt\": Any, \"max_tokens_to_sample\": 8192}  # \"max_tokens_to_sample\": Any\n",
    "        provider = \"anthropic\"\n",
    "        # _model_kwargs[self.provider_stop_sequence_key_name_map.get(provider)] = stop\n",
    "        model_kwargs = {**_model_kwargs, **kwargs}\n",
    "        input_body = LLMInputOutputAdapter.prepare_input(provider, prompt, model_kwargs)\n",
    "        body = json.dumps(input_body)\n",
    "        print(body)\n",
    "        try:\n",
    "            response = boto3_bedrock_stream.invoke_model(\n",
    "                body=body,\n",
    "                modelId=\"anthropic.claude-v2\",\n",
    "                accept=\"application/json\",\n",
    "                contentType=\"application/json\",\n",
    "            )\n",
    "            text = LLMInputOutputAdapter.prepare_output(provider, response)\n",
    "\n",
    "        except Exception as e:\n",
    "            raise ValueError(f\"Error raised by bedrock service: {e}\")\n",
    "\n",
    "        return text"
   ]
  },
  {
   "cell_type": "markdown",
   "metadata": {},
   "source": [
    "### Load Evidence"
   ]
  },
  {
   "cell_type": "code",
   "execution_count": 3,
   "metadata": {},
   "outputs": [
    {
     "name": "stdout",
     "output_type": "stream",
     "text": [
      "{'2051': ['/home/ubuntu/data/2022/2051/report.pdf'], '856': [], '4071': ['/home/ubuntu/data/2022/4071/59f8c07c55a4552db8db85044cfebee6.pdf'], '3155': ['/home/ubuntu/data/2022/3155/1-s2.0-S147470652100125X-main.pdf'], '1124': ['/home/ubuntu/data/2022/1124/development-of-the-vietnamese-healthy-eating-index.pdf'], '2897': ['/home/ubuntu/data/2022/2897/20-12-22 Burundi pVAB adoption study report ABC_TAFS WCA.pdf'], '3341': ['/home/ubuntu/data/2022/3341/59f8c07c55a4552db8db85044cfebee6.pdf'], '1698': ['/home/ubuntu/data/2022/1698/TPGS_breeding_program.pdf'], '2182': ['/home/ubuntu/data/2022/2182/c9f1cceecd33f93443b172d09760c5e5.pdf'], '1283': ['/home/ubuntu/data/2022/1283/major_challenges_2022.pdf'], '2168': ['/home/ubuntu/data/2022/2168/HCJ4O8.pdf'], '2104': ['/home/ubuntu/data/2022/2104/H050804.pdf'], '3352': ['/home/ubuntu/data/2022/3352/247c5df1711838df9983c409afe9d715.pdf'], '2049': ['/home/ubuntu/data/2022/2049/lhac015.pdf'], '1881': ['/home/ubuntu/data/2022/1881/ar_manual_nov2017.pdf'], '4075': ['/home/ubuntu/data/2022/4075/eco.pdf'], '1112': ['/home/ubuntu/data/2022/1112/business_model_brief_December.pdf'], '785': ['/home/ubuntu/data/2022/785/e008597.full.pdf'], '4141': ['/home/ubuntu/data/2022/4141/U22ArtTamoIPMInthomDev.pdf'], '128': ['/home/ubuntu/data/2022/128/NEXUS_ConceptNote.pdf'], '1032': ['/home/ubuntu/data/2022/1032/LIVESTOCK_CRP_policybrief.pdf'], '1036': ['/home/ubuntu/data/2022/1036/CBA_Silestri.pdf'], '2896': ['/home/ubuntu/data/2022/2896/report.pdf'], '309': ['/home/ubuntu/data/2022/309/UUScalingHub.pdf', '/home/ubuntu/data/2022/309/ESAAgribusinessSupportLandscape.pdf'], '168': ['/home/ubuntu/data/2022/168/circular-bioeconomy-innovation-hub-ghana-strategy-launch-and-work-plan.pdf'], '1922': ['/home/ubuntu/data/2022/1922/Eliot (2022) - Speech recognition, machine translation, and corpus analysis -- Technical Report.pdf'], '4221': ['/home/ubuntu/data/2022/4221/U22ArtTamoIPMInthomDev.pdf'], '3183': ['/home/ubuntu/data/2022/3183/IPM_DiversificationinESA.pdf', '/home/ubuntu/data/2022/3183/InnovationPortfolioManagement.pdf'], '3724': ['/home/ubuntu/data/2022/3724/report.pdf'], '3145': ['/home/ubuntu/data/2022/3145/d4d45a1015645dced2601197148681bd.pdf'], '789': ['/home/ubuntu/data/2022/789/s13593-018-0492-8.pdf'], '4136': ['/home/ubuntu/data/2022/4136/ProjectInnovationSummary-A4NH-P345-I2146.pdf'], '999': ['/home/ubuntu/data/2022/999/eco_ppr_toolbox.pdf', '/home/ubuntu/data/2022/999/eco_ppr_en.pdf'], '3074': ['/home/ubuntu/data/2022/3074/AICCRA_PRM.pdf'], '869': ['/home/ubuntu/data/2022/869/Anticipating_McGuire_2022.pdf'], '3018': ['/home/ubuntu/data/2022/3018/j.mex.2022.pdf'], '1131': ['/home/ubuntu/data/2022/1131/journal article.pdf'], '782': ['/home/ubuntu/data/2022/782/LIPS_Zim_pp.pdf'], '4070': ['/home/ubuntu/data/2022/4070/The Climate Security Index - A methodological note.pdf'], '1031': ['/home/ubuntu/data/2022/1031/OutcomesCaseStudySummary-CCAFS-P259-OICS2107.pdf'], '2097': ['/home/ubuntu/data/2022/2097/Final chakhaji March 2019.pdf', '/home/ubuntu/data/2022/2097/CCAFS%20-%20Compendium%20Solar_Final.pdf'], '2050': ['/home/ubuntu/data/2022/2050/j.ehb.2022.pdf'], '1103': ['/home/ubuntu/data/2022/1103/favaigad.pptx'], '3236': ['/home/ubuntu/data/2022/3236/WP1_ALLestablishment.pdf'], '2966': ['/home/ubuntu/data/2022/2966/AN17809_AC.pdf', '/home/ubuntu/data/2022/2966/Manual36.pdf', '/home/ubuntu/data/2022/2966/Manual39.pdf'], '1106': ['/home/ubuntu/data/2022/1106/RR88.pdf', '/home/ubuntu/data/2022/1106/RR91.pdf'], '2768': ['/home/ubuntu/data/2022/2768/324bf5d63830baaab02e92c26554d0cc.pdf'], '1038': ['/home/ubuntu/data/2022/1038/OutcomesCaseStudySummary-Livestock-P573-OICS3164.pdf', '/home/ubuntu/data/2022/1038/OutcomesCaseStudySummary-Livestock-P573-OICS3091.pdf'], '2171': ['/home/ubuntu/data/2022/2171/presentation.pptx'], '1593': ['/home/ubuntu/data/2022/1593/U22ArtMannersLeveragingInthomDev.pdf'], '3194': ['/home/ubuntu/data/2022/3194/223dcfc919def5ac044a568e652ddfcc.pdf'], '4081': ['/home/ubuntu/data/2022/4081/KR55 - Climate Security _ January 2023.pdf'], '2933': ['/home/ubuntu/data/2022/2933/8aa2bc255b635e9acf05a17115f070af.pdf'], '32': ['/home/ubuntu/data/2022/32/ProjectInnovationSummary-Maize-P961-I475.pdf'], '4032': ['/home/ubuntu/data/2022/4032/WP370.pdf'], '1489': ['/home/ubuntu/data/2022/1489/Reymondin (2022) - Satellite-based tracking of agricultural adaptation -- Technical Report.pdf', '/home/ubuntu/data/2022/1489/fclim-04-938975.pdf'], '45': ['/home/ubuntu/data/2022/45/GENDER_MOZAMBIQUE_online CGSpace.pdf'], '3387': ['/home/ubuntu/data/2022/3387/report.pdf'], '1943': ['/home/ubuntu/data/2022/1943/CGIAR-collaboration-in-Malawi.pdf'], '1296': ['/home/ubuntu/data/2022/1296/fss_livestock_decisions_Jacobo.pdf'], '1787': ['/home/ubuntu/data/2022/1787/8393e459f7a197fe50a1933cce04e60a.pdf', '/home/ubuntu/data/2022/1787/700179c94a3c2a28db5396637e0813e3.pdf'], '953': ['/home/ubuntu/data/2022/953/IPM_DiversificationinESA.pdf', '/home/ubuntu/data/2022/953/InnovationPortfolioManagement.pdf'], '4077': ['/home/ubuntu/data/2022/4077/cap_dev.pdf'], '445': ['/home/ubuntu/data/2022/445/IP_DairyProfitabilitySimulatorMobileApp.pdf'], '2855': ['/home/ubuntu/data/2022/2855/report.pdf'], '4273': ['/home/ubuntu/data/2022/4273/Reporte_CETC-IL_Intibucá_2022.pdf', '/home/ubuntu/data/2022/4273/DST summary report_CIP_Nov 22_22 (1).pdf'], '1933': ['/home/ubuntu/data/2022/1933/65942.pdf'], '1102': ['/home/ubuntu/data/2022/1102/InnovationBrief_SRM_dec2021.pdf'], '1886': ['/home/ubuntu/data/2022/1886/Agronomy Journal - 2021 - Mekonnen - Feed and forage development in mixed crop livestock systems of the Ethiopian highlands.pdf'], '274': ['/home/ubuntu/data/2022/274/market intelligence brief.pdf', '/home/ubuntu/data/2022/274/65969.pdf'], '236': ['/home/ubuntu/data/2022/236/ProjectInnovationSummary-PIM-P596-I2774.pdf'], '791': ['/home/ubuntu/data/2022/791/SDC Narravie Report  2015- 2021 April 2021.pdf'], '1005': ['/home/ubuntu/data/2022/1005/FacilitationGuide.pdf', '/home/ubuntu/data/2022/1005/living_lab4people_low-emissionFoodSystem.pdf'], '1037': ['/home/ubuntu/data/2022/1037/ANNUAL REPORT BIG DATA 2021_XH 22 oct.pdf', '/home/ubuntu/data/2022/1037/BuildingResilienceBigData.pdf'], '805': ['/home/ubuntu/data/2022/805/IP_ShambaShapeUp.pdf'], '3037': ['/home/ubuntu/data/2022/3037/A ML-protocol for measuring CBB disease progression.pdf', '/home/ubuntu/data/2022/3037/Validation_of_AI%20web_tool_for_CMD.pdf'], '34': ['/home/ubuntu/data/2022/34/ProjectInnovationSummary-Maize-P961-I475 (1).pdf'], '952': ['/home/ubuntu/data/2022/952/56284a8353715c3dcf456dc5bada447f.pdf'], '1876': ['/home/ubuntu/data/2022/1876/AR_Ethiopia_report_mar2017.pdf', '/home/ubuntu/data/2022/1876/ar_technical_report_2022.pdf'], '2117': ['/home/ubuntu/data/2022/2117/sip_sizing_manual.pdf'], '3119': ['/home/ubuntu/data/2022/3119/ba148fe8acec6375159ae42799ed9dcc.pdf'], '3418': ['/home/ubuntu/data/2022/3418/AAEA__aug_022.pptx'], '3419': ['/home/ubuntu/data/2022/3419/artificial_intelligence-based_biomonitoring_of_water_quality.pdf'], '345': ['/home/ubuntu/data/2022/345/20212.pdf'], '1035': ['/home/ubuntu/data/2022/1035/OutcomesCaseStudySummary-Livestock-P573-OICS3115.pdf', '/home/ubuntu/data/2022/1035/2021%20prm%20impact%20report%20.pdf', '/home/ubuntu/data/2022/1035/AICCRA_PRM.pdf'], '2694': ['/home/ubuntu/data/2022/2694/Brief_ EPs_PerformanceAnalysis.pdf']}\n"
     ]
    }
   ],
   "source": [
    "root_path = \"/home/ubuntu/data/2022\"\n",
    "\n",
    "_folder_paths = [f.path for f in os.scandir(root_path) if f.is_dir()]\n",
    "result_codes = [os.path.basename(f) for f in _folder_paths]\n",
    "ID_CODE_EVIDENCE_MAP = {r: [] for r in result_codes}\n",
    "\n",
    "for p in _folder_paths:\n",
    "    base = os.path.basename(p)\n",
    "    files = [f for f in (glob.glob(os.path.join(p, '**', '*.xlsx'), recursive=True) + \\\n",
    "                glob.glob(os.path.join(p, '**', '*.pdf'), recursive=True) + \\\n",
    "                glob.glob(os.path.join(p, '**', '*.pptx'), recursive=True)) \\\n",
    "                if not f.endswith('result.pdf')]\n",
    "    ID_CODE_EVIDENCE_MAP[base].extend(files)\n",
    "\n",
    "print(ID_CODE_EVIDENCE_MAP)"
   ]
  },
  {
   "cell_type": "markdown",
   "metadata": {},
   "source": [
    "### Load Results"
   ]
  },
  {
   "cell_type": "code",
   "execution_count": 4,
   "metadata": {},
   "outputs": [
    {
     "name": "stdout",
     "output_type": "stream",
     "text": [
      "{'2051': '/home/ubuntu/data/2022/2051/result.pdf', '856': '/home/ubuntu/data/2022/856/result.pdf', '4071': '/home/ubuntu/data/2022/4071/result.pdf', '3155': '/home/ubuntu/data/2022/3155/result.pdf', '1124': '/home/ubuntu/data/2022/1124/result.pdf', '2897': '/home/ubuntu/data/2022/2897/result.pdf', '3341': '/home/ubuntu/data/2022/3341/result.pdf', '1698': '/home/ubuntu/data/2022/1698/result.pdf', '2182': '/home/ubuntu/data/2022/2182/result.pdf', '1283': '/home/ubuntu/data/2022/1283/result.pdf', '2168': '/home/ubuntu/data/2022/2168/result.pdf', '2104': '/home/ubuntu/data/2022/2104/result.pdf', '3352': '/home/ubuntu/data/2022/3352/result.pdf', '2049': '/home/ubuntu/data/2022/2049/result.pdf', '1881': '/home/ubuntu/data/2022/1881/result.pdf', '4075': '/home/ubuntu/data/2022/4075/result.pdf', '1112': '/home/ubuntu/data/2022/1112/result.pdf', '785': '/home/ubuntu/data/2022/785/result.pdf', '4141': '/home/ubuntu/data/2022/4141/result.pdf', '128': '/home/ubuntu/data/2022/128/result.pdf', '1032': '/home/ubuntu/data/2022/1032/result.pdf', '1036': '/home/ubuntu/data/2022/1036/result.pdf', '2896': '/home/ubuntu/data/2022/2896/result.pdf', '309': '/home/ubuntu/data/2022/309/result.pdf', '168': '/home/ubuntu/data/2022/168/result.pdf', '1922': '/home/ubuntu/data/2022/1922/result.pdf', '4221': '/home/ubuntu/data/2022/4221/result.pdf', '3183': '/home/ubuntu/data/2022/3183/result.pdf', '3724': '/home/ubuntu/data/2022/3724/result.pdf', '3145': '/home/ubuntu/data/2022/3145/result.pdf', '789': '/home/ubuntu/data/2022/789/result.pdf', '4136': '/home/ubuntu/data/2022/4136/result.pdf', '999': '/home/ubuntu/data/2022/999/result.pdf', '3074': '/home/ubuntu/data/2022/3074/result.pdf', '869': '/home/ubuntu/data/2022/869/result.pdf', '3018': '/home/ubuntu/data/2022/3018/result.pdf', '1131': '/home/ubuntu/data/2022/1131/result.pdf', '782': '/home/ubuntu/data/2022/782/result.pdf', '4070': '/home/ubuntu/data/2022/4070/result.pdf', '1031': '/home/ubuntu/data/2022/1031/result.pdf', '2097': '/home/ubuntu/data/2022/2097/result.pdf', '2050': '/home/ubuntu/data/2022/2050/result.pdf', '1103': '/home/ubuntu/data/2022/1103/result.pdf', '3236': '/home/ubuntu/data/2022/3236/result.pdf', '2966': '/home/ubuntu/data/2022/2966/result.pdf', '1106': '/home/ubuntu/data/2022/1106/result.pdf', '2768': '/home/ubuntu/data/2022/2768/result.pdf', '1038': '/home/ubuntu/data/2022/1038/result.pdf', '2171': '/home/ubuntu/data/2022/2171/result.pdf', '1593': '/home/ubuntu/data/2022/1593/result.pdf', '3194': '/home/ubuntu/data/2022/3194/result.pdf', '4081': '/home/ubuntu/data/2022/4081/result.pdf', '2933': '/home/ubuntu/data/2022/2933/result.pdf', '32': '/home/ubuntu/data/2022/32/result.pdf', '4032': '/home/ubuntu/data/2022/4032/result.pdf', '1489': '/home/ubuntu/data/2022/1489/result.pdf', '45': '/home/ubuntu/data/2022/45/result.pdf', '3387': '/home/ubuntu/data/2022/3387/result.pdf', '1943': '/home/ubuntu/data/2022/1943/result.pdf', '1296': '/home/ubuntu/data/2022/1296/result.pdf', '1787': '/home/ubuntu/data/2022/1787/result.pdf', '953': '/home/ubuntu/data/2022/953/result.pdf', '4077': '/home/ubuntu/data/2022/4077/result.pdf', '445': '/home/ubuntu/data/2022/445/result.pdf', '2855': '/home/ubuntu/data/2022/2855/result.pdf', '4273': '/home/ubuntu/data/2022/4273/result.pdf', '1933': '/home/ubuntu/data/2022/1933/result.pdf', '1102': '/home/ubuntu/data/2022/1102/result.pdf', '1886': '/home/ubuntu/data/2022/1886/result.pdf', '274': '/home/ubuntu/data/2022/274/result.pdf', '236': '/home/ubuntu/data/2022/236/result.pdf', '791': '/home/ubuntu/data/2022/791/result.pdf', '1005': '/home/ubuntu/data/2022/1005/result.pdf', '1037': '/home/ubuntu/data/2022/1037/result.pdf', '805': '/home/ubuntu/data/2022/805/result.pdf', '3037': '/home/ubuntu/data/2022/3037/result.pdf', '34': '/home/ubuntu/data/2022/34/result.pdf', '952': '/home/ubuntu/data/2022/952/result.pdf', '1876': '/home/ubuntu/data/2022/1876/result.pdf', '2117': '/home/ubuntu/data/2022/2117/result.pdf', '3119': '/home/ubuntu/data/2022/3119/result.pdf', '3418': '/home/ubuntu/data/2022/3418/result.pdf', '3419': '/home/ubuntu/data/2022/3419/result.pdf', '345': '/home/ubuntu/data/2022/345/result.pdf', '1035': '/home/ubuntu/data/2022/1035/result.pdf', '2694': '/home/ubuntu/data/2022/2694/result.pdf'}\n"
     ]
    }
   ],
   "source": [
    "root_path = \"/home/ubuntu/data/2022\"\n",
    "\n",
    "_folder_paths = [f.path for f in os.scandir(root_path) if f.is_dir()]\n",
    "result_codes = [os.path.basename(f) for f in _folder_paths]\n",
    "ID_CODE_RESULT_MAP = {r: None for r in result_codes}\n",
    "\n",
    "for code in result_codes:\n",
    "    path = f\"/home/ubuntu/data/2022/{code}/result.pdf\"\n",
    "    if os.path.exists(path):\n",
    "        ID_CODE_RESULT_MAP[code] = path\n",
    "\n",
    "print(ID_CODE_RESULT_MAP)"
   ]
  },
  {
   "cell_type": "markdown",
   "metadata": {},
   "source": [
    "### Load Azure OpenAI"
   ]
  },
  {
   "cell_type": "code",
   "execution_count": 5,
   "metadata": {},
   "outputs": [],
   "source": [
    "llm_azure = AzureChatOpenAI(\n",
    "    openai_api_base=AZURE_OPENAI_API_BASE,\n",
    "    openai_api_version=AZURE_OPENAI_API_VERSION,\n",
    "    deployment_name=AZURE_DEPLOYMENT_NAME,\n",
    "    openai_api_key=AZURE_OPENAI_API_KEY,\n",
    "    openai_api_type=AZURE_OPENAI_API_TYPE,\n",
    ")"
   ]
  },
  {
   "cell_type": "markdown",
   "metadata": {},
   "source": [
    "### Load OpenAI"
   ]
  },
  {
   "cell_type": "code",
   "execution_count": 6,
   "metadata": {},
   "outputs": [],
   "source": [
    "llm_openai = ChatOpenAI(openai_api_key=OPENAI_API_KEY, model_name=\"gpt-4\", temperature=0)"
   ]
  },
  {
   "cell_type": "markdown",
   "metadata": {},
   "source": [
    "### Load Anthropic Claude 2"
   ]
  },
  {
   "cell_type": "code",
   "execution_count": 8,
   "metadata": {},
   "outputs": [],
   "source": [
    "llm_bedrock = NewBedrock(\n",
    "    model_id=\"anthropic.claude-v2\",\n",
    ")"
   ]
  },
  {
   "cell_type": "code",
   "execution_count": 9,
   "metadata": {},
   "outputs": [
    {
     "name": "stdout",
     "output_type": "stream",
     "text": [
      "{\"prompt\": \"\\n\\nHuman: What does a researcher at CGIAR do?\\n\\nAssistant:\", \"max_tokens_to_sample\": 8192, \"temperature\": 0.2}\n"
     ]
    }
   ],
   "source": [
    "result = llm_bedrock(\"What does a researcher at CGIAR do?\")"
   ]
  },
  {
   "cell_type": "code",
   "execution_count": 10,
   "metadata": {},
   "outputs": [
    {
     "name": "stdout",
     "output_type": "stream",
     "text": [
      " CGIAR is a global research partnership that works to advance agricultural science and innovation for food security. Some examples of what researchers at CGIAR do include:\n",
      "\n",
      "- Developing new crop varieties that are higher yielding, more nutritious, or more resistant to pests, diseases, and climate stresses. This can involve plant breeding, genetic engineering, etc.\n",
      "\n",
      "- Studying sustainable ways to manage soils, water, forests, and fisheries. This aims to optimize agriculture while protecting the environment.\n",
      "\n",
      "- Looking for ways to control pests and diseases that affect crops and livestock. This can mean new management strategies, natural predators, gene editing, etc.\n",
      "\n",
      "- Analyzing policies and socioeconomic factors that impact smallholder farmers and food security. Researchers provide evidence to guide policy reforms. \n",
      "\n",
      "- Working with farmers directly to test and implement new technologies and practices in local contexts. This facilitates adoption and impact.\n",
      "\n",
      "- Building capacity of national agricultural research systems. CGIAR partners with local institutes and universities.  \n",
      "\n",
      "- Developing decision-support tools, models, and datasets to inform better agriculture and food system policies.\n",
      "\n",
      "- Studying nutrition links between agriculture and health. Biofortification of crops is an example.\n",
      "\n",
      "So in summary, CGIAR researchers conduct applied scientific research across a range of disciplines to develop innovative solutions for sustainable agriculture worldwide.\n"
     ]
    }
   ],
   "source": [
    "print(result)"
   ]
  },
  {
   "cell_type": "markdown",
   "metadata": {},
   "source": [
    "### Load Documents"
   ]
  },
  {
   "cell_type": "markdown",
   "metadata": {},
   "source": [
    "#### Load PRMS Result, Pdf & Excel Evidence"
   ]
  },
  {
   "cell_type": "code",
   "execution_count": null,
   "metadata": {},
   "outputs": [],
   "source": [
    "code = \"1037\"\n",
    "evidence_list = ID_CODE_EVIDENCE_MAP.get(code)\n",
    "result = PyPDFLoader(ID_CODE_RESULT_MAP.get(code)).load_and_split()\n",
    "\n",
    "evidence_docs = []\n",
    "# generate a list of *already loaded* P documents\n",
    "for path in evidence_list:\n",
    "    if os.path.splitext(os.path.basename(path))[1] == \".pdf\":\n",
    "        _evidence_docs = PyPDFLoader(path).load_and_split()\n",
    "    elif os.path.splitext(os.path.basename(path))[1] == \".pptx\":\n",
    "        _evidence_docs = PDFPlumberLoader(path).load_and_split()\n",
    "    else:\n",
    "        fname = os.path.basename(path)\n",
    "        print(f\"Error: Unable to load {fname}\")\n",
    "        continue\n",
    "    for _doc in _evidence_docs:\n",
    "        evidence_docs.append(_doc)\n",
    "\n",
    "print(\"Result: \\n\", result)\n",
    "print(\"Evidence: \\n\", evidence_docs)"
   ]
  },
  {
   "cell_type": "code",
   "execution_count": 12,
   "metadata": {},
   "outputs": [
    {
     "name": "stdout",
     "output_type": "stream",
     "text": [
      "110\n"
     ]
    }
   ],
   "source": [
    "print(len(evidence_docs))"
   ]
  },
  {
   "cell_type": "markdown",
   "metadata": {},
   "source": [
    "### Extract PRMS Results"
   ]
  },
  {
   "cell_type": "code",
   "execution_count": 13,
   "metadata": {},
   "outputs": [],
   "source": [
    "output_parser = PydanticOutputParser(pydantic_object=InnovationProfile)\n",
    "format_instructions = output_parser.get_format_instructions()"
   ]
  },
  {
   "cell_type": "code",
   "execution_count": 14,
   "metadata": {},
   "outputs": [],
   "source": [
    "document_prompt = PromptTemplate(\n",
    "            input_variables=[\"page_content\"],\n",
    "            template=\"{page_content}\"\n",
    "        )"
   ]
  },
  {
   "cell_type": "code",
   "execution_count": 15,
   "metadata": {},
   "outputs": [],
   "source": [
    "extraction_template = (\n",
    "    \"You are a researcher at CGIAR. Your task is to review reports submitted by other researchers and evaluate \"\n",
    "    \"how innovative they are across a number of dimensions. A researcher has submitted the following research results \"\n",
    "    \"containing key points about the research they conducted. Extract the necessary information from the document provided \"\n",
    "    \"and returning this information as a JSON instance.\\n\\n\"\n",
    "\n",
    "    \"{format_instructions}\\n\\n\"\n",
    "\n",
    "    \"The text you are extracting information from can be found below.\\n\\n\"\n",
    "\n",
    "    \"{text}\"\n",
    ")\n",
    "extraction_prompt = PromptTemplate.from_template(template=extraction_template, partial_variables={\"format_instructions\": format_instructions})"
   ]
  },
  {
   "cell_type": "code",
   "execution_count": 16,
   "metadata": {},
   "outputs": [],
   "source": [
    "llm_chain = LLMChain(llm=llm_azure, prompt=extraction_prompt, verbose=VERBOSE)"
   ]
  },
  {
   "cell_type": "code",
   "execution_count": 17,
   "metadata": {},
   "outputs": [],
   "source": [
    "stuff_chain = StuffDocumentsChain(llm_chain=llm_chain, document_prompt=document_prompt, document_variable_name=\"text\", verbose=VERBOSE)"
   ]
  },
  {
   "cell_type": "code",
   "execution_count": null,
   "metadata": {},
   "outputs": [],
   "source": [
    "output = stuff_chain.run({\"input_documents\": result})"
   ]
  },
  {
   "cell_type": "code",
   "execution_count": 19,
   "metadata": {},
   "outputs": [
    {
     "name": "stdout",
     "output_type": "stream",
     "text": [
      "{\n",
      "  \"description\": \"The global rangelands data platform is being established in response to a gap in rangelands data identified by the UN Environment Assembly through Resolution L17 Innovations in Sustainable Rangelands and Pastoralism 2019 and the complimentary report: A Case of Benign Neglect. Knowledge Gaps About Sustainability in Pastoralism and Rangelands. With funding from the CGIAR Big Data Platform and through a consultative process the outline of the platform was conceptualised. A global rangelands atlas was launched as a first step. It is anticipated that the global rangelands data platform will be launched in 2023. It will bring together big data on rangelands, source data including exploring crowd-sourcing and be an interactive platform for producing reports and trends for multiple users including UN Agencies monitoring rangeland and development agencies and actors developing interventions for rangelands, researchers and academics, and ultimately pastoralists themselves.\",\n",
      "  \"long_title\": \"Not Provided\",\n",
      "  \"short_title\": \"Global rangelands data platform\",\n",
      "  \"innovation_character\": \"Radical innovation\",\n",
      "  \"innovation_typology\": \"Capacity development innovation\",\n",
      "  \"readiness_level\": \"Level 2 - Formulation\",\n",
      "  \"readiness_justif\": \"The outline/structure of the rangelands data platform has been developed through a consultative process including a survey involving potential users. However it has not yet been launched due to lack of funds. It is anticipated that it will be launched in 2023.\"\n",
      "}\n"
     ]
    }
   ],
   "source": [
    "print(output)"
   ]
  },
  {
   "cell_type": "code",
   "execution_count": 20,
   "metadata": {},
   "outputs": [],
   "source": [
    "result = json.loads(output)"
   ]
  },
  {
   "cell_type": "markdown",
   "metadata": {},
   "source": [
    "### Summarize Evidence"
   ]
  },
  {
   "cell_type": "code",
   "execution_count": 21,
   "metadata": {},
   "outputs": [],
   "source": [
    "description = result[\"description\"]\n",
    "long_title = result[\"long_title\"]\n",
    "short_title = result[\"short_title\"]\n",
    "innovation_character = result[\"innovation_character\"]\n",
    "innovation_typology = result[\"innovation_typology\"]\n",
    "readiness_level = result[\"readiness_level\"]\n",
    "readiness_justif = result[\"readiness_justif\"]"
   ]
  },
  {
   "cell_type": "code",
   "execution_count": 22,
   "metadata": {},
   "outputs": [],
   "source": [
    "summary_template = (\n",
    "     \"Human:<admin>You are a researcher at CGIAR. Your task is to review projects submitted by other researchers and evaluate \"\n",
    "     \"them across a number of dimensions.<admin>\\n\\nHuman: \"\n",
    "     \"This task consist of the following steps:\\n\"\n",
    "     \"Step 1: Review the project title and its description. Stop and think about it. This will provide you a general understanding of the evidence that will be presented in the next step.\\n\"\n",
    "     \"Step 2: Review the evidence provided.\\n\"\n",
    "     \"Step 3: Review the table inside the XML tags <innovation_levels></innovation_levels> This table will be useful in carrying out the next step.\\n\"\n",
    "     \"Step 4: Generate a list of quotes from the evidence that highlight the important activities that took place as well as the findings made and any results. \"\n",
    "     \"Identify if activites carried out are ideations, the development of basic principles, or the validation or testing of well-defined hypotheses. \"\n",
    "     \"Also include quotes that characterize the setting for the activities carried out. \"\n",
    "     \"Reflect on if the evidence contains well-defined hypotheses that are being validated or tested under fully-controlled conditions, semi-controlled conditions or uncontrolled conditions. \"\n",
    "     \"It may be useful to reference the innovation levels (1 through 9) during this step.\"\n",
    "     \"Finally, make sure to take note of if this innovation is a technological innovation, a capacity development innovation or a policy/organizational/institutional innovation.\"\n",
    "     \"Write quotes down word for word inside <thinking></thinking> XML tags. This is a space for you to write down relevant content and will not be shown to the user.\\n\"\n",
    "     \"Step 5: Using the quotes inside <thinking></thinking>, write a 500 word summary in a professional, academic 3rd person voice. \"\n",
    "     \"IMPORTANT: It is critical that you distinguish activities which have been carried out from activities which have been planned but not yet carried out.\"\n",
    "     \"Make sure to recount all major activities that took place within the evidence. \"\n",
    "     \"In addition to all major activites, the summary should identify any potential innovations that might result from the activities noted and make sure to explicitly state them. \"\n",
    "     \"Finally, close the summary by restating all key findings and next steps discussed.\\n\"\n",
    "     \"Step 6: Review the summary written in step 5. If necessary re-write it to emphasize conciseness without losing any details. Return the summary without any introduction between the XML tag <summary>.\\n\"\n",
    "     \"IMPORTANT: Keep in mind that the audience consist of academic researchers. Never refer to yourself in the first person in this summary. \"\n",
    "     \"Be sure to read the entire set of instructions carefully before beginning. \"\n",
    "     \"Do not go to the next step without making sure the previous step has been completed.\\n\"\n",
    "\n",
    "     \"<project_title>\\n\"\n",
    "     \"{short_title}\\n\"\n",
    "     \"</project_title>\\n\"\n",
    "\n",
    "     \"<description>\\n\"\n",
    "     \"{description}\\n\"\n",
    "     \"</description>\\n\"\n",
    "\n",
    "     \"<innovation_levels>\\n\"\n",
    "     \"<row>\"\n",
    "     \"<level>0</level>\"\n",
    "     \"<title>Idea</title>\"\n",
    "     \"<definition>The innovation is in the idea stage. The innovation is not yet being implemented.</definition>\"\n",
    "     \"</row>\"\n",
    "     \"<row>\"\n",
    "     \"<level>1</level>\"\n",
    "     \"<title>Basic Research</title>\"\n",
    "     \"<definition>The innovation's basic principles are being researched for their ability to achieve an impact.</definition>\"\n",
    "     \"</row>\"\n",
    "     \"<row>\"\n",
    "     \"<level>2</level>\"\n",
    "     \"<title>Formulation</title>\"\n",
    "     \"<definition>The innovation's basic principles are being formulated or designed.</definition>\"\n",
    "     \"</row>\"\n",
    "     \"<row>\"\n",
    "     \"<level>3</level>\"\n",
    "     \"<title>Proof of Concept</title>\"\n",
    "     \"<definition>The innovation's key concepts have been validated for their ability to achieve a specific impact.</definition>\"\n",
    "     \"</row>\"\n",
    "     \"<row>\"\n",
    "     \"<level>4</level>\"\n",
    "     \"<title>Controlled Testing</title>\"\n",
    "     \"<definition>The innovation is being tested for its ability to achieve a specific impact under fully-controlled conditions.</definition>\"\n",
    "     \"</row>\"\n",
    "     \"<row>\"\n",
    "     \"<level>5</level>\"\n",
    "     \"<title>Model/Early Prototype</title>\"\n",
    "     \"<definition>The innovation is validated for its ability to achieve a specific impact under fully-controlled conditions.</definition>\"\n",
    "     \"</row>\"\n",
    "     \"<row>\"\n",
    "     \"<level>6</level>\"\n",
    "     \"<title>Semi-controlled Testing</title>\"\n",
    "     \"<definition>The innovation is being tested for its ability to achieve a specific impact under semi-controlled conditions.</definition>\"\n",
    "     \"</row>\"\n",
    "     \"<row>\"\n",
    "     \"<level>7</level>\"\n",
    "     \"<title>Prototype</title>\"\n",
    "     \"<definition>The innovation is validated for its ability to achieve a specific impact under semi-controlled conditions.</definition>\"\n",
    "     \"</row>\"\n",
    "     \"<row>\"\n",
    "     \"<field>8</level>\"\n",
    "     \"<title>Uncontrolled Testing</title>\"\n",
    "     \"<definition>The innovation is being tested for its ability to achieve a specific impact under uncontrolled conditions.</definition>\"\n",
    "     \"</row>\"\n",
    "     \"<row>\"\n",
    "     \"<level>9</level>\"\n",
    "     \"<title>Proven Innovation</title>\"\n",
    "     \"<definition>The innovation is validated for its ability to achieve a specific impact under uncontrolled conditions.</definition>\"\n",
    "     \"</row>\\n\"\n",
    "     \"<innovation_levels>\\n\"\n",
    "\n",
    "     \"<evidence>\\n\"\n",
    "     \"{text}\\n\"\n",
    "     \"</evidence>\"\n",
    "     \"\\n\\nAssistant:\\n<summary>\\n\"\n",
    ")\n",
    "summary_prompt = PromptTemplate.from_template(template=summary_template, partial_variables={\"short_title\": short_title, \"description\": description})"
   ]
  },
  {
   "cell_type": "code",
   "execution_count": 23,
   "metadata": {},
   "outputs": [],
   "source": [
    "llm_chain = LLMChain(llm=llm_bedrock, prompt=summary_prompt, verbose=VERBOSE)"
   ]
  },
  {
   "cell_type": "code",
   "execution_count": 24,
   "metadata": {},
   "outputs": [],
   "source": [
    "stuff_chain = StuffDocumentsChain(llm_chain=llm_chain, document_prompt=document_prompt, document_variable_name=\"text\", verbose=VERBOSE)"
   ]
  },
  {
   "cell_type": "code",
   "execution_count": null,
   "metadata": {},
   "outputs": [],
   "source": [
    "evidence_summary = stuff_chain.run({\"input_documents\": evidence_docs})\n",
    "evidence_summary = \"<summary>\\n\"+evidence_summary"
   ]
  },
  {
   "cell_type": "code",
   "execution_count": 30,
   "metadata": {},
   "outputs": [
    {
     "name": "stdout",
     "output_type": "stream",
     "text": [
      "<summary>\n",
      "Here is a 500 word summary of the project in a professional, academic 3rd person voice:\n",
      "\n",
      "The Global Rangelands Data Platform project aimed to establish the first online global data platform for monitoring rangelands and consolidating rangeland data. The project was led by the International Livestock Research Institute (ILRI) and GMV, and was awarded $100,000 by the CGIAR Platform for Big Data in Agriculture through the Inspire Challenge 2020. \n",
      "\n",
      "The project began by analyzing existing geospatial platforms to help inform the development of the Rangelands Data Platform. Meetings were held with FAO and GEOGLAM to learn about the architecture and design decisions behind their platforms, Earth Map and RAPP Map. This analysis indicated that a cloud-based solution using Google Earth Engine for storage and processing capabilities would be optimal for meeting user requirements.  \n",
      "\n",
      "To gather stakeholder input, an online survey was conducted which received 77 responses. The results showed high demand for long time series of climate, land use, livestock, and environmental data at national and regional levels to assess trends and changes in rangelands. Users also requested capabilities to process and download data. \n",
      "\n",
      "In May 2021, the project launched a Rangelands Atlas on the website www.rangelandsdata.org as an initial step toward the full data platform. The Atlas combines a basemap of rangeland ecoregions with publically available datasets on topics like protected areas and land degradation. Its launch received significant publicity and was presented at events like the UN Decade of Ecosystem Restoration.\n",
      "\n",
      "The project team outlined a structure for the Rangelands Data Platform consisting of a Google Earth Engine backend for cloud storage and processing, and a Mapbox or open-source TerriaJS frontend for visualization. User requirements indicated the need for flexible data query, processing, download, and visualization. \n",
      "\n",
      "While the technical specifications and website framework have been developed, launch of the full Rangelands Data Platform awaits secure funding for maintenance and upkeep beyond the initial Inspire Challenge award. The website and Atlas provide a starting point that can be built upon once additional funding is acquired. By undertaking extensive consultations and technical groundwork, the project has laid the foundations for the first global data platform focused specifically on rangelands.\n",
      "</summary>\n"
     ]
    }
   ],
   "source": [
    "print(evidence_summary)"
   ]
  },
  {
   "cell_type": "markdown",
   "metadata": {},
   "source": [
    "### Evaluate Readiness Level"
   ]
  },
  {
   "cell_type": "code",
   "execution_count": 28,
   "metadata": {},
   "outputs": [],
   "source": [
    "readiness_output_parser = PydanticOutputParser(pydantic_object=Readiness)\n",
    "readiness_format_instructions = readiness_output_parser.get_format_instructions()"
   ]
  },
  {
   "cell_type": "code",
   "execution_count": 31,
   "metadata": {},
   "outputs": [],
   "source": [
    "readiness_template = (\n",
    "     \"You are a researcher at CGIAR. Your task is to review projects submitted by other researchers and evaluate \"\n",
    "     \"them across a number of dimensions. This task consist of the following steps:\\n\"\n",
    "     \"Step 1: Review the summary provided. It summarizes the work carried out as part of the project. Make sure to distinguish activities which were carried out from activities which were only planned.\\n\"\n",
    "     \"Step 2: Review the table inside the XML tags <innovation_levels></innovation_levels>. It contains a scale of innovation readiness that ranges from 1 to 9.\\n\"\n",
    "     \"Step 3: Use the innovation readiness scale to determine the cumulative readiness level of COMPLETED activities conducted as part of the project. IMPORTANT: No'planned, but not-yet-completed' activities should be considered when determining the readiness level.\\n\"\n",
    "     \"Step 4: In a professional, academic 3rd person voice, concisely justify why you selected this readiness level in at most 300 words.\\n\"\n",
    "     \"IMPORTANT: Keep in mind that the audience consist of academic researchers. Never refer to yourself in the first person in this summary. \"\n",
    "     \"Refer to all actions in the past tense. Be sure to read the entire set of instructions carefully before beginning. \"\n",
    "     \"Do not go to the next step without making sure the previous step has been completed.\\n\\n\"\n",
    "\n",
    "     \"Innovation development refers to a new, improved, or adapted output or groups of outputs such as technologies, products and services, policies, \"\n",
    "     \"and other organizational and institutional arrangements with high potential to contribute to positive impacts when used at scale. \"\n",
    "     \"Innovations may be at early stages of readiness (ideation or basic research) or at more mature stages of readiness (delivery and scaling).\\n\\n\"\n",
    "\n",
    "     \"<innovation_levels>\\n\"\n",
    "     \"<row>\"\n",
    "     \"<level>0</level>\"\n",
    "     \"<title>Idea</title>\"\n",
    "     \"<definition>The innovation is in the idea stage. The innovation is not yet being implemented.</definition>\"\n",
    "     \"</row>\"\n",
    "     \"<row>\"\n",
    "     \"<level>1</level>\"\n",
    "     \"<title>Basic Research</title>\"\n",
    "     \"<definition>The innovation's basic principles are being researched for their ability to achieve an impact.</definition>\"\n",
    "     \"</row>\"\n",
    "     \"<row>\"\n",
    "     \"<level>2</level>\"\n",
    "     \"<title>Formulation</title>\"\n",
    "     \"<definition>The innovation's basic principles are being formulated or designed.</definition>\"\n",
    "     \"</row>\"\n",
    "     \"<row>\"\n",
    "     \"<level>3</level>\"\n",
    "     \"<title>Proof of Concept</title>\"\n",
    "     \"<definition>The innovation's key concepts have been validated for their ability to achieve a specific impact.</definition>\"\n",
    "     \"</row>\"\n",
    "     \"<row>\"\n",
    "     \"<level>4</level>\"\n",
    "     \"<title>Controlled Testing</title>\"\n",
    "     \"<definition>The innovation is being tested for its ability to achieve a specific impact under fully-controlled conditions.</definition>\"\n",
    "     \"</row>\"\n",
    "     \"<row>\"\n",
    "     \"<level>5</level>\"\n",
    "     \"<title>Model/Early Prototype</title>\"\n",
    "     \"<definition>The innovation is validated for its ability to achieve a specific impact under fully-controlled conditions.</definition>\"\n",
    "     \"</row>\"\n",
    "     \"<row>\"\n",
    "     \"<level>6</level>\"\n",
    "     \"<title>Semi-controlled Testing</title>\"\n",
    "     \"<definition>The innovation is being tested for its ability to achieve a specific impact under semi-controlled conditions.</definition>\"\n",
    "     \"</row>\"\n",
    "     \"<row>\"\n",
    "     \"<level>7</level>\"\n",
    "     \"<title>Prototype</title>\"\n",
    "     \"<definition>The innovation is validated for its ability to achieve a specific impact under semi-controlled conditions.</definition>\"\n",
    "     \"</row>\"\n",
    "     \"<row>\"\n",
    "     \"<field>8</level>\"\n",
    "     \"<title>Uncontrolled Testing</title>\"\n",
    "     \"<definition>The innovation is being tested for its ability to achieve a specific impact under uncontrolled conditions.</definition>\"\n",
    "     \"</row>\"\n",
    "     \"<row>\"\n",
    "     \"<level>9</level>\"\n",
    "     \"<title>Proven Innovation</title>\"\n",
    "     \"<definition>The innovation is validated for its ability to achieve a specific impact under uncontrolled conditions.</definition>\"\n",
    "     \"</row>\\n\"\n",
    "     \"<innovation_levels>\\n\"\n",
    "\n",
    "     \"<summary>\\n\"\n",
    "     \"{text}\\n\"\n",
    "     \"</summary>\"\n",
    "\n",
    "     \"{format_instructions}\"\n",
    "     \"Only return the resulting JSON object. DO NOT return any other text.\"\n",
    ")\n",
    "readiness_prompt = PromptTemplate.from_template(template=readiness_template, partial_variables={\"format_instructions\": readiness_format_instructions})"
   ]
  },
  {
   "cell_type": "code",
   "execution_count": 32,
   "metadata": {},
   "outputs": [
    {
     "name": "stdout",
     "output_type": "stream",
     "text": [
      "input_variables=['text'] partial_variables={'format_instructions': 'The output should be formatted as a JSON instance that conforms to the JSON schema below.\\n\\nAs an example, for the schema {\"properties\": {\"foo\": {\"title\": \"Foo\", \"description\": \"a list of strings\", \"type\": \"array\", \"items\": {\"type\": \"string\"}}}, \"required\": [\"foo\"]}\\nthe object {\"foo\": [\"bar\", \"baz\"]} is a well-formatted instance of the schema. The object {\"properties\": {\"foo\": [\"bar\", \"baz\"]}} is not well-formatted.\\n\\nHere is the output schema:\\n```\\n{\"properties\": {\"readiness_level\": {\"title\": \"Readiness Level\", \"description\": \"The readiness level selected.\", \"type\": \"string\"}, \"readiness_level_summary\": {\"title\": \"Readiness Level Summary\", \"description\": \"The summary which justifies the readiness level selected.\", \"type\": \"string\"}}, \"required\": [\"readiness_level\", \"readiness_level_summary\"]}\\n```'} template=\"You are a researcher at CGIAR. Your task is to review projects submitted by other researchers and evaluate them across a number of dimensions. This task consist of the following steps:\\nStep 1: Review the summary provided. It summarizes the work carried out as part of the project. Make sure to distinguish activities which were carried out from activities which were only planned.\\nStep 2: Review the table inside the XML tags <innovation_levels></innovation_levels>. It contains a scale of innovation readiness that ranges from 1 to 9.\\nStep 3: Use the innovation readiness scale to determine the cumulative readiness level of COMPLETED activities conducted as part of the project. IMPORTANT: No'planned, but not-yet-completed' activities should be considered when determining the readiness level.\\nStep 4: In a professional, academic 3rd person voice, concisely justify why you selected this readiness level in at most 300 words.\\nIMPORTANT: Keep in mind that the audience consist of academic researchers. Never refer to yourself in the first person in this summary. Refer to all actions in the past tense. Be sure to read the entire set of instructions carefully before beginning. Do not go to the next step without making sure the previous step has been completed.\\n\\nInnovation development refers to a new, improved, or adapted output or groups of outputs such as technologies, products and services, policies, and other organizational and institutional arrangements with high potential to contribute to positive impacts when used at scale. Innovations may be at early stages of readiness (ideation or basic research) or at more mature stages of readiness (delivery and scaling).\\n\\n<innovation_levels>\\n<row><level>0</level><title>Idea</title><definition>The innovation is in the idea stage. The innovation is not yet being implemented.</definition></row><row><level>1</level><title>Basic Research</title><definition>The innovation's basic principles are being researched for their ability to achieve an impact.</definition></row><row><level>2</level><title>Formulation</title><definition>The innovation's basic principles are being formulated or designed.</definition></row><row><level>3</level><title>Proof of Concept</title><definition>The innovation's key concepts have been validated for their ability to achieve a specific impact.</definition></row><row><level>4</level><title>Controlled Testing</title><definition>The innovation is being tested for its ability to achieve a specific impact under fully-controlled conditions.</definition></row><row><level>5</level><title>Model/Early Prototype</title><definition>The innovation is validated for its ability to achieve a specific impact under fully-controlled conditions.</definition></row><row><level>6</level><title>Semi-controlled Testing</title><definition>The innovation is being tested for its ability to achieve a specific impact under semi-controlled conditions.</definition></row><row><level>7</level><title>Prototype</title><definition>The innovation is validated for its ability to achieve a specific impact under semi-controlled conditions.</definition></row><row><field>8</level><title>Uncontrolled Testing</title><definition>The innovation is being tested for its ability to achieve a specific impact under uncontrolled conditions.</definition></row><row><level>9</level><title>Proven Innovation</title><definition>The innovation is validated for its ability to achieve a specific impact under uncontrolled conditions.</definition></row>\\n<innovation_levels>\\n<summary>\\n{text}\\n</summary>{format_instructions}Only return the resulting JSON object. DO NOT return any other text.\"\n"
     ]
    }
   ],
   "source": [
    "print(readiness_prompt)"
   ]
  },
  {
   "cell_type": "code",
   "execution_count": 33,
   "metadata": {},
   "outputs": [],
   "source": [
    "llm_chain = LLMChain(llm=llm_openai, prompt=readiness_prompt, verbose=VERBOSE)"
   ]
  },
  {
   "cell_type": "code",
   "execution_count": 34,
   "metadata": {},
   "outputs": [],
   "source": [
    "stuff_chain = StuffDocumentsChain(llm_chain=llm_chain, document_prompt=document_prompt, document_variable_name=\"text\", verbose=VERBOSE)"
   ]
  },
  {
   "cell_type": "code",
   "execution_count": 35,
   "metadata": {},
   "outputs": [],
   "source": [
    "summary = Document(page_content=evidence_summary, metadata={\"source\": \"Claude v2\"})"
   ]
  },
  {
   "cell_type": "code",
   "execution_count": 36,
   "metadata": {},
   "outputs": [
    {
     "name": "stdout",
     "output_type": "stream",
     "text": [
      "<summary>\n",
      "Here is a 500 word summary of the project in a professional, academic 3rd person voice:\n",
      "\n",
      "The Global Rangelands Data Platform project aimed to establish the first online global data platform for monitoring rangelands and consolidating rangeland data. The project was led by the International Livestock Research Institute (ILRI) and GMV, and was awarded $100,000 by the CGIAR Platform for Big Data in Agriculture through the Inspire Challenge 2020. \n",
      "\n",
      "The project began by analyzing existing geospatial platforms to help inform the development of the Rangelands Data Platform. Meetings were held with FAO and GEOGLAM to learn about the architecture and design decisions behind their platforms, Earth Map and RAPP Map. This analysis indicated that a cloud-based solution using Google Earth Engine for storage and processing capabilities would be optimal for meeting user requirements.  \n",
      "\n",
      "To gather stakeholder input, an online survey was conducted which received 77 responses. The results showed high demand for long time series of climate, land use, livestock, and environmental data at national and regional levels to assess trends and changes in rangelands. Users also requested capabilities to process and download data. \n",
      "\n",
      "In May 2021, the project launched a Rangelands Atlas on the website www.rangelandsdata.org as an initial step toward the full data platform. The Atlas combines a basemap of rangeland ecoregions with publically available datasets on topics like protected areas and land degradation. Its launch received significant publicity and was presented at events like the UN Decade of Ecosystem Restoration.\n",
      "\n",
      "The project team outlined a structure for the Rangelands Data Platform consisting of a Google Earth Engine backend for cloud storage and processing, and a Mapbox or open-source TerriaJS frontend for visualization. User requirements indicated the need for flexible data query, processing, download, and visualization. \n",
      "\n",
      "While the technical specifications and website framework have been developed, launch of the full Rangelands Data Platform awaits secure funding for maintenance and upkeep beyond the initial Inspire Challenge award. The website and Atlas provide a starting point that can be built upon once additional funding is acquired. By undertaking extensive consultations and technical groundwork, the project has laid the foundations for the first global data platform focused specifically on rangelands.\n",
      "</summary>\n"
     ]
    }
   ],
   "source": [
    "print(summary.page_content)"
   ]
  },
  {
   "cell_type": "code",
   "execution_count": 37,
   "metadata": {},
   "outputs": [
    {
     "name": "stdout",
     "output_type": "stream",
     "text": [
      "\n",
      "\n",
      "\u001b[1m> Entering new StuffDocumentsChain chain...\u001b[0m\n",
      "\n",
      "\n",
      "\u001b[1m> Entering new LLMChain chain...\u001b[0m\n",
      "Prompt after formatting:\n",
      "\u001b[32;1m\u001b[1;3mYou are a researcher at CGIAR. Your task is to review projects submitted by other researchers and evaluate them across a number of dimensions. This task consist of the following steps:\n",
      "Step 1: Review the summary provided. It summarizes the work carried out as part of the project. Make sure to distinguish activities which were carried out from activities which were only planned.\n",
      "Step 2: Review the table inside the XML tags <innovation_levels></innovation_levels>. It contains a scale of innovation readiness that ranges from 1 to 9.\n",
      "Step 3: Use the innovation readiness scale to determine the cumulative readiness level of COMPLETED activities conducted as part of the project. IMPORTANT: No'planned, but not-yet-completed' activities should be considered when determining the readiness level.\n",
      "Step 4: In a professional, academic 3rd person voice, concisely justify why you selected this readiness level in at most 300 words.\n",
      "IMPORTANT: Keep in mind that the audience consist of academic researchers. Never refer to yourself in the first person in this summary. Refer to all actions in the past tense. Be sure to read the entire set of instructions carefully before beginning. Do not go to the next step without making sure the previous step has been completed.\n",
      "\n",
      "Innovation development refers to a new, improved, or adapted output or groups of outputs such as technologies, products and services, policies, and other organizational and institutional arrangements with high potential to contribute to positive impacts when used at scale. Innovations may be at early stages of readiness (ideation or basic research) or at more mature stages of readiness (delivery and scaling).\n",
      "\n",
      "<innovation_levels>\n",
      "<row><level>0</level><title>Idea</title><definition>The innovation is in the idea stage. The innovation is not yet being implemented.</definition></row><row><level>1</level><title>Basic Research</title><definition>The innovation's basic principles are being researched for their ability to achieve an impact.</definition></row><row><level>2</level><title>Formulation</title><definition>The innovation's basic principles are being formulated or designed.</definition></row><row><level>3</level><title>Proof of Concept</title><definition>The innovation's key concepts have been validated for their ability to achieve a specific impact.</definition></row><row><level>4</level><title>Controlled Testing</title><definition>The innovation is being tested for its ability to achieve a specific impact under fully-controlled conditions.</definition></row><row><level>5</level><title>Model/Early Prototype</title><definition>The innovation is validated for its ability to achieve a specific impact under fully-controlled conditions.</definition></row><row><level>6</level><title>Semi-controlled Testing</title><definition>The innovation is being tested for its ability to achieve a specific impact under semi-controlled conditions.</definition></row><row><level>7</level><title>Prototype</title><definition>The innovation is validated for its ability to achieve a specific impact under semi-controlled conditions.</definition></row><row><field>8</level><title>Uncontrolled Testing</title><definition>The innovation is being tested for its ability to achieve a specific impact under uncontrolled conditions.</definition></row><row><level>9</level><title>Proven Innovation</title><definition>The innovation is validated for its ability to achieve a specific impact under uncontrolled conditions.</definition></row>\n",
      "<innovation_levels>\n",
      "<summary>\n",
      "<summary>\n",
      "Here is a 500 word summary of the project in a professional, academic 3rd person voice:\n",
      "\n",
      "The Global Rangelands Data Platform project aimed to establish the first online global data platform for monitoring rangelands and consolidating rangeland data. The project was led by the International Livestock Research Institute (ILRI) and GMV, and was awarded $100,000 by the CGIAR Platform for Big Data in Agriculture through the Inspire Challenge 2020. \n",
      "\n",
      "The project began by analyzing existing geospatial platforms to help inform the development of the Rangelands Data Platform. Meetings were held with FAO and GEOGLAM to learn about the architecture and design decisions behind their platforms, Earth Map and RAPP Map. This analysis indicated that a cloud-based solution using Google Earth Engine for storage and processing capabilities would be optimal for meeting user requirements.  \n",
      "\n",
      "To gather stakeholder input, an online survey was conducted which received 77 responses. The results showed high demand for long time series of climate, land use, livestock, and environmental data at national and regional levels to assess trends and changes in rangelands. Users also requested capabilities to process and download data. \n",
      "\n",
      "In May 2021, the project launched a Rangelands Atlas on the website www.rangelandsdata.org as an initial step toward the full data platform. The Atlas combines a basemap of rangeland ecoregions with publically available datasets on topics like protected areas and land degradation. Its launch received significant publicity and was presented at events like the UN Decade of Ecosystem Restoration.\n",
      "\n",
      "The project team outlined a structure for the Rangelands Data Platform consisting of a Google Earth Engine backend for cloud storage and processing, and a Mapbox or open-source TerriaJS frontend for visualization. User requirements indicated the need for flexible data query, processing, download, and visualization. \n",
      "\n",
      "While the technical specifications and website framework have been developed, launch of the full Rangelands Data Platform awaits secure funding for maintenance and upkeep beyond the initial Inspire Challenge award. The website and Atlas provide a starting point that can be built upon once additional funding is acquired. By undertaking extensive consultations and technical groundwork, the project has laid the foundations for the first global data platform focused specifically on rangelands.\n",
      "</summary>\n",
      "</summary>The output should be formatted as a JSON instance that conforms to the JSON schema below.\n",
      "\n",
      "As an example, for the schema {\"properties\": {\"foo\": {\"title\": \"Foo\", \"description\": \"a list of strings\", \"type\": \"array\", \"items\": {\"type\": \"string\"}}}, \"required\": [\"foo\"]}\n",
      "the object {\"foo\": [\"bar\", \"baz\"]} is a well-formatted instance of the schema. The object {\"properties\": {\"foo\": [\"bar\", \"baz\"]}} is not well-formatted.\n",
      "\n",
      "Here is the output schema:\n",
      "```\n",
      "{\"properties\": {\"readiness_level\": {\"title\": \"Readiness Level\", \"description\": \"The readiness level selected.\", \"type\": \"string\"}, \"readiness_level_summary\": {\"title\": \"Readiness Level Summary\", \"description\": \"The summary which justifies the readiness level selected.\", \"type\": \"string\"}}, \"required\": [\"readiness_level\", \"readiness_level_summary\"]}\n",
      "```Only return the resulting JSON object. DO NOT return any other text.\u001b[0m\n"
     ]
    },
    {
     "name": "stdout",
     "output_type": "stream",
     "text": [
      "\n",
      "\u001b[1m> Finished chain.\u001b[0m\n",
      "\n",
      "\u001b[1m> Finished chain.\u001b[0m\n"
     ]
    }
   ],
   "source": [
    "readiness_eval = stuff_chain.run({\"input_documents\": [summary]})"
   ]
  },
  {
   "cell_type": "code",
   "execution_count": 38,
   "metadata": {},
   "outputs": [
    {
     "name": "stdout",
     "output_type": "stream",
     "text": [
      "{\"readiness_level\": \"4\", \"readiness_level_summary\": \"The Global Rangelands Data Platform project has reached the 'Controlled Testing' stage of innovation readiness. The project has moved beyond the ideation, basic research, formulation, and proof of concept stages. The project team has analyzed existing geospatial platforms, conducted an online survey to gather stakeholder input, and launched a Rangelands Atlas as an initial step toward the full data platform. The structure for the Rangelands Data Platform has been outlined, including a Google Earth Engine backend for cloud storage and processing, and a Mapbox or open-source TerriaJS frontend for visualization. However, the full launch of the Rangelands Data Platform is pending secure funding for maintenance and upkeep. Therefore, the project has not yet moved into the 'Model/Early Prototype' stage, where the innovation would be validated for its ability to achieve a specific impact under fully-controlled conditions.\"}\n"
     ]
    }
   ],
   "source": [
    "print(readiness_eval)"
   ]
  }
 ],
 "metadata": {
  "kernelspec": {
   "display_name": "base",
   "language": "python",
   "name": "python3"
  },
  "language_info": {
   "codemirror_mode": {
    "name": "ipython",
    "version": 3
   },
   "file_extension": ".py",
   "mimetype": "text/x-python",
   "name": "python",
   "nbconvert_exporter": "python",
   "pygments_lexer": "ipython3",
   "version": "3.11.5"
  }
 },
 "nbformat": 4,
 "nbformat_minor": 2
}
