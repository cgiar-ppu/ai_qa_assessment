{
 "cells": [
  {
   "cell_type": "code",
   "execution_count": 1,
   "metadata": {},
   "outputs": [],
   "source": [
    "import glob\n",
    "import json\n",
    "import os\n",
    "\n",
    "import boto3\n",
    "\n",
    "from langchain.chains import LLMChain, StuffDocumentsChain\n",
    "from langchain.chat_models import AzureChatOpenAI, ChatOpenAI\n",
    "from langchain.document_loaders import (\n",
    "    PDFPlumberLoader,\n",
    "    PyPDFLoader,\n",
    ")\n",
    "from langchain.llms.bedrock import Bedrock, LLMInputOutputAdapter\n",
    "from langchain.output_parsers import (\n",
    "    PydanticOutputParser,\n",
    ")\n",
    "from langchain.prompts import PromptTemplate\n",
    "\n",
    "from langchain.schema.document import Document\n",
    "\n",
    "from utils import ImpactAreas, ImpactAreaTags\n",
    "\n",
    "VERBOSE = True\n",
    "\n",
    "AZURE_OPENAI_API_BASE = \"https://so-azure-openai-dev.openai.azure.com/\"\n",
    "AZURE_OPENAI_API_VERSION = \"2023-07-01-preview\"\n",
    "AZURE_DEPLOYMENT_NAME = \"gpt35-baseline\"\n",
    "AZURE_OPENAI_API_KEY = \"\"\n",
    "AZURE_OPENAI_API_TYPE = \"azure\"\n",
    "\n",
    "OPENAI_API_KEY = \"\"\n",
    "\n",
    "session = boto3.Session(region_name='us-east-1')\n",
    "boto3_bedrock = boto3.client(service_name='bedrock', region_name='us-east-1')\n",
    "boto3_bedrock_stream = boto3.client(service_name='bedrock-runtime', region_name='us-east-1')"
   ]
  },
  {
   "cell_type": "markdown",
   "metadata": {},
   "source": [
    "### Create Custom Bedrock class"
   ]
  },
  {
   "cell_type": "code",
   "execution_count": 2,
   "metadata": {},
   "outputs": [],
   "source": [
    "from typing import Any, Iterator\n",
    "from langchain.schema.output import GenerationChunk\n",
    "\n",
    "class NewBedrock(Bedrock):\n",
    "    def __init__(self, *args, **kwargs):\n",
    "        super().__init__(*args, **kwargs)\n",
    "\n",
    "    def _prepare_input_and_invoke_stream(self, prompt, stop=None, run_manager=None, **kwargs) -> Iterator[GenerationChunk]:\n",
    "        _model_kwargs = {\"prompt\": Any, \"max_tokens_to_sample\": 8192, \"temperature\": 0.0}  #  \"max_tokens_to_sample\": Any\n",
    "        provider = \"anthropic\"\n",
    "        # _model_kwargs[self.provider_stop_sequence_key_name_map.get(provider)] = stop\n",
    "        model_kwargs = {**_model_kwargs, **kwargs}\n",
    "        input_body = LLMInputOutputAdapter.prepare_input(provider, prompt, model_kwargs)\n",
    "        body = json.dumps(input_body)\n",
    "        try:\n",
    "            response = boto3_bedrock_stream.invoke_model(\n",
    "                body=body,\n",
    "                modelId=\"anthropic.claude-v2\",\n",
    "                accept=\"application/json\",\n",
    "                contentType=\"application/json\",\n",
    "            )\n",
    "        except Exception as e:\n",
    "            raise ValueError(f\"Error raised by bedrock service: {e}\")\n",
    "\n",
    "        for chunk in LLMInputOutputAdapter.prepare_output_stream(\n",
    "            provider, response, stop\n",
    "        ):\n",
    "            yield chunk\n",
    "\n",
    "    def _prepare_input_and_invoke(self, prompt, stop=None, run_manager=None, **kwargs):\n",
    "        _model_kwargs = {\"prompt\": Any, \"max_tokens_to_sample\": 8192, \"temperature\": 0.0}  # \"max_tokens_to_sample\": Any\n",
    "       # _model_kwargs = {\"prompt\": Any, \"max_tokens_to_sample\": 8192}  # \"max_tokens_to_sample\": Any\n",
    "        provider = \"anthropic\"\n",
    "        # _model_kwargs[self.provider_stop_sequence_key_name_map.get(provider)] = stop\n",
    "        model_kwargs = {**_model_kwargs, **kwargs}\n",
    "        input_body = LLMInputOutputAdapter.prepare_input(provider, prompt, model_kwargs)\n",
    "        body = json.dumps(input_body)\n",
    "        print(body)\n",
    "        try:\n",
    "            response = boto3_bedrock_stream.invoke_model(\n",
    "                body=body,\n",
    "                modelId=\"anthropic.claude-v2\",\n",
    "                accept=\"application/json\",\n",
    "                contentType=\"application/json\",\n",
    "            )\n",
    "            text = LLMInputOutputAdapter.prepare_output(provider, response)\n",
    "\n",
    "        except Exception as e:\n",
    "            raise ValueError(f\"Error raised by bedrock service: {e}\")\n",
    "\n",
    "        return text"
   ]
  },
  {
   "cell_type": "markdown",
   "metadata": {},
   "source": [
    "### Load Evidence"
   ]
  },
  {
   "cell_type": "code",
   "execution_count": 11,
   "metadata": {},
   "outputs": [
    {
     "name": "stdout",
     "output_type": "stream",
     "text": [
      "{'4747': ['/home/ubuntu/data/2023/4747/s42452-023-05499-1.pdf'], '5009': ['/home/ubuntu/data/2023/5009/0f68fd2242e2a7622578f1f480f45963.pdf'], '5316': ['/home/ubuntu/data/2023/5316/U23ArtKareemAntioxidantInthomDev.pdf'], '4959': ['/home/ubuntu/data/2023/4959/Soremi_2023_allEarth.pdf'], '4698': ['/home/ubuntu/data/2023/4698/journal%20article.pdf'], '5004': ['/home/ubuntu/data/2023/5004/journal%20article.pdf'], '4770': ['/home/ubuntu/data/2023/4770/s11250-023-03561-z.pdf'], '5326': ['/home/ubuntu/data/2023/5326/U23ArtEylandUnravellingInthomNodev.pdf'], '5294': ['/home/ubuntu/data/2023/5294/Genotypic%20variation%20in%20rice.pdf'], '4949': ['/home/ubuntu/data/2023/4949/H051684.pdf'], '5118': ['/home/ubuntu/data/2023/5118/journal%20article.pdf'], '5301': ['/home/ubuntu/data/2023/5301/article.pdf'], '5279': ['/home/ubuntu/data/2023/5279/U23ArtTsindiAnalysisInthomDev.pdf'], '5380': ['/home/ubuntu/data/2023/5380/U23ArtAbebeDiallelInthomNodev.pdf'], '5128': ['/home/ubuntu/data/2023/5128/journal%20article.pdf'], '5276': ['/home/ubuntu/data/2023/5276/Clonal%20diploid.pdf'], '5028': ['/home/ubuntu/data/2023/5028/95662d9db3c2a24e587accfa8c92de67.pdf'], '5245': ['/home/ubuntu/data/2023/5245/fsufs-07-1017341.pdf'], '5274': ['/home/ubuntu/data/2023/5274/Complex_Traits.pdf'], '5016': ['/home/ubuntu/data/2023/5016/JSFA_2023_Amankwaah.pdf'], '5318': ['/home/ubuntu/data/2023/5318/plantbreed.pdf'], '5218': ['/home/ubuntu/data/2023/5218/66085.pdf'], '4966': ['/home/ubuntu/data/2023/4966/The%20Plant%20Genome%20-%202023%20-%20Mbanjo%20-%20Unravelling%20marker%20trait%20associations%20linking%20nutritional%20value%20with%20pigmentation%20in.pdf'], '5001': ['/home/ubuntu/data/2023/5001/65960.pdf'], '5281': ['/home/ubuntu/data/2023/5281/s41597-023-02163-6.pdf'], '5283': ['/home/ubuntu/data/2023/5283/Gedil%20et%20al.2023.%20Genetic%20structure%20analysis%20and%20identifying%20key%20founder%20inbred%20lines%20in%20diverse%20elite%20sub-tropical%20maize%20inbred%20lines.pdf'], '5304': ['/home/ubuntu/data/2023/5304/frontiers.pdf'], '5000': ['/home/ubuntu/data/2023/5000/66358.pdf'], '5049': ['/home/ubuntu/data/2023/5049/journal%20article.pdf'], '5007': ['/home/ubuntu/data/2023/5007/65887.pdf'], '5289': ['/home/ubuntu/data/2023/5289/Badu%20et%20al_fgene-14-1012460.pdf'], '5315': ['/home/ubuntu/data/2023/5315/J%20Sci%20Food%20Agric%20-%202023%20-%20Aghogho%20-%20Exploring%20genetic%20variability%20%20heritability%20%20and%20trait%20correlations%20in%20gari%20and%20eba.pdf'], '4676': ['/home/ubuntu/data/2023/4676/2bf939c3a420e747ec5d95aeef18707b.pdf'], '5293': ['/home/ubuntu/data/2023/5293/disentangling_the_roles.pdf'], '5312': ['/home/ubuntu/data/2023/5312/soilsystem.pdf'], '5391': ['/home/ubuntu/data/2023/5391/6cbb0535bbd50d5ddf50a46232167149.pdf'], '5348': ['/home/ubuntu/data/2023/5348/document.pdf'], '5378': ['/home/ubuntu/data/2023/5378/s00267-023-01816-x.pdf'], '5217': ['/home/ubuntu/data/2023/5217/66209.pdf'], '5390': ['/home/ubuntu/data/2023/5390/c8bbe85d4b88028211d9fd8714551371.pdf'], '5263': ['/home/ubuntu/data/2023/5263/JSFA_2023_Meghar.pdf'], '4911': ['/home/ubuntu/data/2023/4911/s13593-023-00886-9.pdf'], '5266': ['/home/ubuntu/data/2023/5266/journal%20article.pdf'], '5296': ['/home/ubuntu/data/2023/5296/article.pdf'], '5320': ['/home/ubuntu/data/2023/5320/cerealchem.pdf'], '5027': ['/home/ubuntu/data/2023/5027/Journal%20article.pdf'], '5324': ['/home/ubuntu/data/2023/5324/U23ArtChenIdentificationInthomNodev.pdf'], '5216': ['/home/ubuntu/data/2023/5216/65964.pdf'], '4785': ['/home/ubuntu/data/2023/4785/Schapendonk_2023.pdf'], '5375': ['/home/ubuntu/data/2023/5375/s41598-023-43286-5.pdf'], '5299': ['/home/ubuntu/data/2023/5299/development%20and%20validation.pdf'], '5300': ['/home/ubuntu/data/2023/5300/available%20cloned.pdf'], '5297': ['/home/ubuntu/data/2023/5297/article.pdf'], '5282': ['/home/ubuntu/data/2023/5282/U23ArtMboupPerformanceInthomDev.pdf'], '5309': ['/home/ubuntu/data/2023/5309/ac3e632177bb8eac83719d797b8919f1.pdf'], '4746': ['/home/ubuntu/data/2023/4746/s41598-023-43606-9.pdf'], '5353': ['/home/ubuntu/data/2023/5353/Tanaka%20et%20al%202023.pdf'], '5277': ['/home/ubuntu/data/2023/5277/Reciprocal%20recurrent%20selection.pdf'], '5273': ['/home/ubuntu/data/2023/5273/agronomy-13-01594.pdf'], '4964': ['/home/ubuntu/data/2023/4964/s41598-023-41583-7.pdf'], '5122': ['/home/ubuntu/data/2023/5122/Aminou%2cAboudou%20and%20Ndinding%202023.pdf'], '5011': ['/home/ubuntu/data/2023/5011/66269.pdf'], '5006': ['/home/ubuntu/data/2023/5006/66317.pdf'], '4756': ['/home/ubuntu/data/2023/4756/Journal%20article.pdf'], '5022': ['/home/ubuntu/data/2023/5022/s10681-023-03225-x.pdf'], '5010': ['/home/ubuntu/data/2023/5010/7865b21ceaac4e16efd39ad9fef50ebf.pdf'], '5141': ['/home/ubuntu/data/2023/5141/65a28d75231ef8c6fddcba94ddca94bb.pdf'], '5302': ['/home/ubuntu/data/2023/5302/development%20and%20evaluation.pdf'], '4817': ['/home/ubuntu/data/2023/4817/s12571-023-01382-4.pdf'], '5272': ['/home/ubuntu/data/2023/5272/pathogens-12-00820.pdf'], '5314': ['/home/ubuntu/data/2023/5314/screening.pdf'], '4774': ['/home/ubuntu/data/2023/4774/vfad004.pdf'], '5306': ['/home/ubuntu/data/2023/5306/agronomy-13-00266%20%281%29.pdf'], '5327': ['/home/ubuntu/data/2023/5327/Sakhale%20et%20al%2023.pdf'], '5090': ['/home/ubuntu/data/2023/5090/Savelli%20et%20al%202023%20-%20IDPR.pdf'], '4754': ['/home/ubuntu/data/2023/4754/s00704-023-04621-y.pdf'], '5342': ['/home/ubuntu/data/2023/5342/2e54fbe624437cbfefce8ca1e50d941a.pdf'], '5292': ['/home/ubuntu/data/2023/5292/Iseghohi%202023.%20Reactions%20of%20provitamin%e2%80%91A%e2%80%91enriched%20maize%20to%20foliar%20diseases%20under%20feld%20conditions%20in%20Nigeria.pdf'], '5143': ['/home/ubuntu/data/2023/5143/Amoussohoui%20et%20al%202023.pdf'], '5268': ['/home/ubuntu/data/2023/5268/Jha_2023.pdf'], '5262': ['/home/ubuntu/data/2023/5262/Journal%20article.pdf'], '4766': ['/home/ubuntu/data/2023/4766/bsad005.pdf'], '4777': ['/home/ubuntu/data/2023/4777/Journal%20article.pdf'], '5325': ['/home/ubuntu/data/2023/5325/Otegbayo_2023_JSFA.pdf'], '5269': ['/home/ubuntu/data/2023/5269/journal%20article.pdf'], '5313': ['/home/ubuntu/data/2023/5313/plants.pdf'], '5089': ['/home/ubuntu/data/2023/5089/Dolinska_2023.pdf']}\n"
     ]
    }
   ],
   "source": [
    "root_path = \"/home/ubuntu/data/2023\"\n",
    "\n",
    "_folder_paths = [f.path for f in os.scandir(root_path) if f.is_dir()]\n",
    "result_codes = [os.path.basename(f) for f in _folder_paths]\n",
    "ID_CODE_EVIDENCE_MAP = {r: [] for r in result_codes}\n",
    "\n",
    "for p in _folder_paths:\n",
    "    base = os.path.basename(p)\n",
    "    files = [f for f in (glob.glob(os.path.join(p, '**', '*.xlsx'), recursive=True) + \\\n",
    "                glob.glob(os.path.join(p, '**', '*.pdf'), recursive=True) + \\\n",
    "                glob.glob(os.path.join(p, '**', '*.pptx'), recursive=True)) \\\n",
    "                if not f.endswith('result.pdf')]\n",
    "    ID_CODE_EVIDENCE_MAP[base].extend(files)\n",
    "\n",
    "print(ID_CODE_EVIDENCE_MAP)"
   ]
  },
  {
   "cell_type": "markdown",
   "metadata": {},
   "source": [
    "### Load Results"
   ]
  },
  {
   "cell_type": "code",
   "execution_count": 3,
   "metadata": {},
   "outputs": [
    {
     "name": "stdout",
     "output_type": "stream",
     "text": [
      "{'4747': '/home/ubuntu/data/2023/4747/result.pdf', '5009': '/home/ubuntu/data/2023/5009/result.pdf', '5316': '/home/ubuntu/data/2023/5316/result.pdf', '4959': '/home/ubuntu/data/2023/4959/result.pdf', '4698': '/home/ubuntu/data/2023/4698/result.pdf', '5004': '/home/ubuntu/data/2023/5004/result.pdf', '4770': '/home/ubuntu/data/2023/4770/result.pdf', '5326': '/home/ubuntu/data/2023/5326/result.pdf', '5294': '/home/ubuntu/data/2023/5294/result.pdf', '4949': '/home/ubuntu/data/2023/4949/result.pdf', '5118': '/home/ubuntu/data/2023/5118/result.pdf', '5301': '/home/ubuntu/data/2023/5301/result.pdf', '5279': '/home/ubuntu/data/2023/5279/result.pdf', '5380': '/home/ubuntu/data/2023/5380/result.pdf', '5128': '/home/ubuntu/data/2023/5128/result.pdf', '5276': '/home/ubuntu/data/2023/5276/result.pdf', '5028': '/home/ubuntu/data/2023/5028/result.pdf', '5245': '/home/ubuntu/data/2023/5245/result.pdf', '5274': '/home/ubuntu/data/2023/5274/result.pdf', '5016': '/home/ubuntu/data/2023/5016/result.pdf', '5318': '/home/ubuntu/data/2023/5318/result.pdf', '5218': '/home/ubuntu/data/2023/5218/result.pdf', '4966': '/home/ubuntu/data/2023/4966/result.pdf', '5001': '/home/ubuntu/data/2023/5001/result.pdf', '5281': '/home/ubuntu/data/2023/5281/result.pdf', '5283': '/home/ubuntu/data/2023/5283/result.pdf', '5304': '/home/ubuntu/data/2023/5304/result.pdf', '5000': '/home/ubuntu/data/2023/5000/result.pdf', '5049': '/home/ubuntu/data/2023/5049/result.pdf', '5007': '/home/ubuntu/data/2023/5007/result.pdf', '5289': '/home/ubuntu/data/2023/5289/result.pdf', '5315': '/home/ubuntu/data/2023/5315/result.pdf', '4676': '/home/ubuntu/data/2023/4676/result.pdf', '5293': '/home/ubuntu/data/2023/5293/result.pdf', '5312': '/home/ubuntu/data/2023/5312/result.pdf', '5391': '/home/ubuntu/data/2023/5391/result.pdf', '5348': '/home/ubuntu/data/2023/5348/result.pdf', '5378': '/home/ubuntu/data/2023/5378/result.pdf', '5217': '/home/ubuntu/data/2023/5217/result.pdf', '5390': '/home/ubuntu/data/2023/5390/result.pdf', '5263': '/home/ubuntu/data/2023/5263/result.pdf', '4911': '/home/ubuntu/data/2023/4911/result.pdf', '5266': '/home/ubuntu/data/2023/5266/result.pdf', '5296': '/home/ubuntu/data/2023/5296/result.pdf', '5320': '/home/ubuntu/data/2023/5320/result.pdf', '5027': '/home/ubuntu/data/2023/5027/result.pdf', '5324': '/home/ubuntu/data/2023/5324/result.pdf', '5216': '/home/ubuntu/data/2023/5216/result.pdf', '4785': '/home/ubuntu/data/2023/4785/result.pdf', '5375': '/home/ubuntu/data/2023/5375/result.pdf', '5299': '/home/ubuntu/data/2023/5299/result.pdf', '5300': '/home/ubuntu/data/2023/5300/result.pdf', '5297': '/home/ubuntu/data/2023/5297/result.pdf', '5282': '/home/ubuntu/data/2023/5282/result.pdf', '5309': '/home/ubuntu/data/2023/5309/result.pdf', '4746': '/home/ubuntu/data/2023/4746/result.pdf', '5353': '/home/ubuntu/data/2023/5353/result.pdf', '5277': '/home/ubuntu/data/2023/5277/result.pdf', '5273': '/home/ubuntu/data/2023/5273/result.pdf', '4964': '/home/ubuntu/data/2023/4964/result.pdf', '5122': '/home/ubuntu/data/2023/5122/result.pdf', '5011': '/home/ubuntu/data/2023/5011/result.pdf', '5006': '/home/ubuntu/data/2023/5006/result.pdf', '4756': '/home/ubuntu/data/2023/4756/result.pdf', '5022': '/home/ubuntu/data/2023/5022/result.pdf', '5010': '/home/ubuntu/data/2023/5010/result.pdf', '5141': '/home/ubuntu/data/2023/5141/result.pdf', '5302': '/home/ubuntu/data/2023/5302/result.pdf', '4817': '/home/ubuntu/data/2023/4817/result.pdf', '5272': '/home/ubuntu/data/2023/5272/result.pdf', '5314': '/home/ubuntu/data/2023/5314/result.pdf', '4774': '/home/ubuntu/data/2023/4774/result.pdf', '5306': '/home/ubuntu/data/2023/5306/result.pdf', '5327': '/home/ubuntu/data/2023/5327/result.pdf', '5090': '/home/ubuntu/data/2023/5090/result.pdf', '4754': '/home/ubuntu/data/2023/4754/result.pdf', '5342': '/home/ubuntu/data/2023/5342/result.pdf', '5292': '/home/ubuntu/data/2023/5292/result.pdf', '5143': '/home/ubuntu/data/2023/5143/result.pdf', '5268': '/home/ubuntu/data/2023/5268/result.pdf', '5262': '/home/ubuntu/data/2023/5262/result.pdf', '4766': '/home/ubuntu/data/2023/4766/result.pdf', '4777': '/home/ubuntu/data/2023/4777/result.pdf', '5325': '/home/ubuntu/data/2023/5325/result.pdf', '5269': '/home/ubuntu/data/2023/5269/result.pdf', '5313': '/home/ubuntu/data/2023/5313/result.pdf', '5089': '/home/ubuntu/data/2023/5089/result.pdf'}\n"
     ]
    }
   ],
   "source": [
    "root_path = \"/home/ubuntu/data/2023\"\n",
    "\n",
    "_folder_paths = [f.path for f in os.scandir(root_path) if f.is_dir()]\n",
    "result_codes = [os.path.basename(f) for f in _folder_paths]\n",
    "ID_CODE_RESULT_MAP = {r: None for r in result_codes}\n",
    "\n",
    "# print(ID_CODE_RESULT_MAP)\n",
    "\n",
    "for code in result_codes:\n",
    "    path = f\"/home/ubuntu/data/2023/{code}/result.pdf\"\n",
    "    if os.path.exists(path):\n",
    "        ID_CODE_RESULT_MAP[code] = path\n",
    "\n",
    "print(ID_CODE_RESULT_MAP)"
   ]
  },
  {
   "cell_type": "markdown",
   "metadata": {},
   "source": [
    "### Load Azure OpenAI"
   ]
  },
  {
   "cell_type": "code",
   "execution_count": 4,
   "metadata": {},
   "outputs": [],
   "source": [
    "llm_azure = AzureChatOpenAI(\n",
    "    openai_api_base=AZURE_OPENAI_API_BASE,\n",
    "    openai_api_version=AZURE_OPENAI_API_VERSION,\n",
    "    deployment_name=AZURE_DEPLOYMENT_NAME,\n",
    "    openai_api_key=AZURE_OPENAI_API_KEY,\n",
    "    openai_api_type=AZURE_OPENAI_API_TYPE,\n",
    ")"
   ]
  },
  {
   "cell_type": "markdown",
   "metadata": {},
   "source": [
    "### Load OpenAI"
   ]
  },
  {
   "cell_type": "code",
   "execution_count": 5,
   "metadata": {},
   "outputs": [],
   "source": [
    "llm_openai = ChatOpenAI(openai_api_key=OPENAI_API_KEY, model_name=\"gpt-4\", temperature=0)\n",
    "llm_openai_35 = ChatOpenAI(\n",
    "    openai_api_key=OPENAI_API_KEY, model_name=\"gpt-3.5-turbo-16k\", temperature=0\n",
    ")"
   ]
  },
  {
   "cell_type": "markdown",
   "metadata": {},
   "source": [
    "### Load Anthropic Claude 2"
   ]
  },
  {
   "cell_type": "code",
   "execution_count": 6,
   "metadata": {},
   "outputs": [],
   "source": [
    "llm_bedrock = NewBedrock(\n",
    "    model_id=\"anthropic.claude-v2\",\n",
    ")"
   ]
  },
  {
   "cell_type": "code",
   "execution_count": 7,
   "metadata": {},
   "outputs": [
    {
     "name": "stdout",
     "output_type": "stream",
     "text": [
      "{\"prompt\": \"\\n\\nHuman: What is the Kunming-Montreal Global Biodiversity Framework?\\n\\nAssistant:\", \"max_tokens_to_sample\": 8192, \"temperature\": 0.0}\n"
     ]
    }
   ],
   "source": [
    "# result = llm_bedrock(\"What does a researcher at CGIAR do?\")\n",
    "# result = llm_bedrock(\"What regions are part of the United Nations geoscheme? List all subregions for all continents.\")\n",
    "# result = llm_bedrock(\"What are the WHO subnational regions for Ethiopia? List all subregions for the country.\")\n",
    "# result = llm_bedrock(\"What are the UN 2030 Sustainable Development Goals\")\n",
    "result = llm_bedrock(\"What is the Kunming-Montreal Global Biodiversity Framework?\")"
   ]
  },
  {
   "cell_type": "code",
   "execution_count": 8,
   "metadata": {},
   "outputs": [
    {
     "name": "stdout",
     "output_type": "stream",
     "text": [
      " The Kunming-Montreal Global Biodiversity Framework is an international agreement aimed at halting and reversing the loss of biodiversity worldwide by 2030. Some key details about it:\n",
      "\n",
      "- It was originally slated to be finalized and adopted at the 15th Conference of Parties (COP15) to the UN Convention on Biological Diversity in Kunming, China in 2020, but this was postponed due to Covid-19. The framework is now expected to be adopted at COP15 in Montreal, Canada in December 2022.\n",
      "\n",
      "- The framework sets 21 targets for 2030 related to things like protecting ecosystems, reducing extinctions, managing invasive species, reducing pollution, ensuring sustainable use of natural resources, and equitably sharing benefits from genetic resources.\n",
      "\n",
      "- It is meant to build on and replace the previous Aichi Biodiversity Targets that were set for 2020 under the UN's Strategic Plan for Biodiversity 2011-2020. Most Aichi Targets were not met.\n",
      "\n",
      "- The framework aims to take a \"whole of government\" and \"whole of society\" approach to mainstreaming biodiversity protection into all sectors of policy and economic activity.\n",
      "\n",
      "- Financing biodiversity protection and restoration is a major component, with calls for increased funding from public, private and philanthropic sources.\n",
      "\n",
      "- Indigenous rights and traditional knowledge are also emphasized as being key to conservation efforts.\n",
      "\n",
      "So in summary, it is a major international accord to try to reverse worldwide biodiversity loss this decade by setting targets, mobilizing financing, and getting many actors across society involved.\n"
     ]
    }
   ],
   "source": [
    "print(result)"
   ]
  },
  {
   "cell_type": "markdown",
   "metadata": {},
   "source": [
    "### Load Documents"
   ]
  },
  {
   "cell_type": "markdown",
   "metadata": {},
   "source": [
    "#### Load PRMS Result, Pdf & Excel Evidence"
   ]
  },
  {
   "cell_type": "code",
   "execution_count": null,
   "metadata": {},
   "outputs": [],
   "source": [
    "code = \"4785\"\n",
    "evidence_list = ID_CODE_EVIDENCE_MAP.get(code)\n",
    "result = PyPDFLoader(ID_CODE_RESULT_MAP.get(code)).load_and_split()\n",
    "\n",
    "print(evidence_list)\n",
    "\n",
    "evidence_docs = []\n",
    "for path in evidence_list:\n",
    "    if os.path.splitext(os.path.basename(path))[1] == \".pdf\":\n",
    "        _evidence_docs = PyPDFLoader(path).load_and_split()\n",
    "    elif os.path.splitext(os.path.basename(path))[1] == \".pptx\":\n",
    "        _evidence_docs = PDFPlumberLoader(path).load_and_split()\n",
    "    else:\n",
    "        fname = os.path.basename(path)\n",
    "        print(f\"Error: Unable to load {fname}\")\n",
    "        continue\n",
    "    for _doc in _evidence_docs:\n",
    "        evidence_docs.append(_doc)\n",
    "\n",
    "print(\"Result: \\n\", result)\n",
    "print(\"Evidence: \\n\", evidence_docs)"
   ]
  },
  {
   "cell_type": "code",
   "execution_count": 13,
   "metadata": {},
   "outputs": [
    {
     "name": "stdout",
     "output_type": "stream",
     "text": [
      "31\n"
     ]
    }
   ],
   "source": [
    "print(len(evidence_docs))"
   ]
  },
  {
   "cell_type": "markdown",
   "metadata": {},
   "source": [
    "### Extract PRMS Results"
   ]
  },
  {
   "cell_type": "code",
   "execution_count": 14,
   "metadata": {},
   "outputs": [],
   "source": [
    "output_parser = PydanticOutputParser(pydantic_object=ImpactAreas)\n",
    "format_instructions = output_parser.get_format_instructions()"
   ]
  },
  {
   "cell_type": "code",
   "execution_count": 15,
   "metadata": {},
   "outputs": [],
   "source": [
    "document_prompt = PromptTemplate(\n",
    "            input_variables=[\"page_content\"],\n",
    "            template=\"{page_content}\"\n",
    "        )"
   ]
  },
  {
   "cell_type": "code",
   "execution_count": 16,
   "metadata": {},
   "outputs": [],
   "source": [
    "extraction_template = (\n",
    "    \"You are a researcher at CGIAR. Your task is to review reports submitted by other researchers and evaluate \"\n",
    "    \"how innovative they are across a number of dimensions. A researcher has submitted the following research results \"\n",
    "    \"containing key points about the research they conducted. Extract the necessary information from the document provided \"\n",
    "    \"and returning this information as a JSON instance.\\n\\n\"\n",
    "\n",
    "    \"{format_instructions}\\n\\n\"\n",
    "\n",
    "    \"The text you are extracting information from can be found below.\\n\\n\"\n",
    "\n",
    "    \"{text}\"\n",
    ")\n",
    "extraction_prompt = PromptTemplate.from_template(template=extraction_template, partial_variables={\"format_instructions\": format_instructions})"
   ]
  },
  {
   "cell_type": "code",
   "execution_count": 17,
   "metadata": {},
   "outputs": [],
   "source": [
    "llm_chain = LLMChain(llm=llm_openai_35, prompt=extraction_prompt, verbose=VERBOSE)"
   ]
  },
  {
   "cell_type": "code",
   "execution_count": 18,
   "metadata": {},
   "outputs": [],
   "source": [
    "stuff_chain = StuffDocumentsChain(llm_chain=llm_chain, document_prompt=document_prompt, document_variable_name=\"text\", verbose=VERBOSE)"
   ]
  },
  {
   "cell_type": "code",
   "execution_count": null,
   "metadata": {},
   "outputs": [],
   "source": [
    "output = stuff_chain.run({\"input_documents\": result})"
   ]
  },
  {
   "cell_type": "code",
   "execution_count": 20,
   "metadata": {},
   "outputs": [
    {
     "name": "stdout",
     "output_type": "stream",
     "text": [
      "{\n",
      "  \"project_title\": \"ClimBeR: Building Systemic Resilience Against Climate Variability and Extremes\",\n",
      "  \"description\": {\n",
      "    \"description\": \"The increasing interconnected nature of our world means that failing to achieve coherence between climate- and peace and security-related policy domains forms a significant climate-related security risk. Poorly designed climate policies that are insensitive to pre-existing insecurities and conflict dynamics may undermine political stability, amplify social inequalities and grievances, and accelerate a loss of biodiversity and climate change-related impacts. Peace and security policies that do not account for climate risks may conversely promote ineffective and unresponsive interventions and risk locking communities into vicious cycles of insecurity and climate vulnerability. This work contributes to the climate security proofing of policy outputs by developing a methodological framework that assesses the degree to which policy outputs and strategy documents display awareness of climate-related security risks and climate peace opportunities. This framework is used to assess policies and strategies from across eight African countries. We find that despite some limited recognition of often place-specific climate-related security risks, a clear and shared conceptual understanding of the climate, peace and security nexus is generally lacking; climate and environment-related policies are generally more aware of climate security and have greater cross-sectoral engagement than peace and security-related policies; and that opportunities exist for the integration of climate security-related considerations into existing strategic priorities, instruments, and programmatic activities.\"\n",
      "  },\n",
      "  \"geographic_location\": {\n",
      "    \"geographic_focus\": \"Global\",\n",
      "    \"region\": [],\n",
      "    \"country\": []\n",
      "  },\n",
      "  \"impact_areas\": {\n",
      "    \"gender_tag\": \"Not Targeted\",\n",
      "    \"climate_change_tag\": \"Principal\",\n",
      "    \"nutrition_tag\": \"Significant\",\n",
      "    \"environment_tag\": \"Significant\",\n",
      "    \"poverty_tag\": \"Not Targeted\"\n",
      "  }\n",
      "}\n"
     ]
    }
   ],
   "source": [
    "print(output)"
   ]
  },
  {
   "cell_type": "code",
   "execution_count": 21,
   "metadata": {},
   "outputs": [],
   "source": [
    "result = json.loads(output)"
   ]
  },
  {
   "cell_type": "markdown",
   "metadata": {},
   "source": [
    "### Summarize Evidence"
   ]
  },
  {
   "cell_type": "code",
   "execution_count": 23,
   "metadata": {},
   "outputs": [],
   "source": [
    "project_title = result[\"project_title\"]\n",
    "description = result[\"description\"][\"description\"]\n",
    "geographic_focus = result[\"geographic_location\"][\"geographic_focus\"]\n",
    "region = result[\"geographic_location\"][\"region\"]\n",
    "country = result[\"geographic_location\"][\"country\"]\n",
    "ia_tag_gender = result[\"impact_areas\"][\"gender_tag\"]\n",
    "ia_tag_climate = result[\"impact_areas\"][\"climate_change_tag\"]\n",
    "ia_tag_nutrition = result[\"impact_areas\"][\"nutrition_tag\"]\n",
    "ia_tag_environment = result[\"impact_areas\"][\"environment_tag\"]\n",
    "ia_tag_poverty = result[\"impact_areas\"][\"poverty_tag\"]"
   ]
  },
  {
   "cell_type": "code",
   "execution_count": 24,
   "metadata": {},
   "outputs": [],
   "source": [
    "summary_template = (\n",
    "    \"Human:<admin>You are a researcher at CGIAR. Your task is to review projects submitted by other researchers and evaluate \"\n",
    "    \"them across a number of dimensions.<admin>\\n\\nHuman: \"\n",
    "    \"This task consist of the following steps:\\n\"\n",
    "    \"Step 1: Review the project title and its description. Stop and think about it. This will provide you a general understanding of the evidence that will be presented in the next step.\\n\"\n",
    "     \"Step 2: Review the evidence provided.\\n\"\n",
    "    \"Step 3: Review the texts inside the <geographic_focus></geographic_focus> and <topics_of_interest></topics_of_interest> XML tags. These texts will be useful in carrying out the next step.\\n\"\n",
    "    \"Step 4: Generate a list of quotes from the evidence that highlight the important activities that took place as well as the findings made and any results. \"\n",
    "    \"Also include quotes that characterize the geographic focus of the aforementioned activities and any topics of interest that are explicitly referenced in the evidence. \"\n",
    "    \"Write them down word for word inside <thinking></thinking> XML tags. This is a space for you to write down relevant content and will not be shown to the user.\\n\"\n",
    "    \"Step 5: Using the quotes inside <thinking></thinking>, write a 750 word summary in a professional, academic 3rd person voice. \"\n",
    "    \"Make sure to note all major activities that took place within the evidence. \"\n",
    "    \"In addition to all major activites, the summary should identify the geographic focus of these activities and make sure to explicitly state \"\n",
    "    \"any of the topics of interest if and only if they are referenced in the evidence. Both geographic focus and topics of interest are clearly defined below.\"\n",
    "    \"Make sure to justify why all particular topics of interest are identified. Finally, close the summary by restating all key findings.\\n\"\n",
    "    \"Step 6: Review the summary written in step 5. If necessary re-write it to emphasize conciseness without losing any details. Return the summary without any introduction between the XML tag <summary>.\\n\"\n",
    "    \"IMPORTANT: Keep in mind that the audience consist of academic researchers. Never refer to yourself in the first person in this summary. \"\n",
    "    \"Refer to all actions in the past tense. Be sure to read the entire set of instructions carefully before beginning. \"\n",
    "    \"Do not go to the next step without making sure the previous step has been completed.\\n\"\n",
    "\n",
    "    \"<project_title>\\n\"\n",
    "    \"{project_title}\\n\"\n",
    "    \"</project_title>\\n\"\n",
    "\n",
    "    \"<description>\\n\"\n",
    "    \"{description}\\n\"\n",
    "    \"</description>\\n\"\n",
    "\n",
    "    \"<geographic_focus>\\n\"\n",
    "    \"'Geographic focus' consist of determining if the major activities are 'Global', 'Regional', 'National', or 'Sub-national'. \"\n",
    "    \"'Regional' refers to whether the activities focus on a United Nations geoscheme subregion. \"\n",
    "    \"'National' refers to whether the activities focus on a country. \"\n",
    "    \"'Sub-national' refers to whether the activites focus on a WHO subnational region without a country. \"\n",
    "    \"The geographic focus is the largest category that is explicitly mentioned in the context of an activity carried out in the evidence.\\n\"\n",
    "    \"</geographic_focus>\\n\"\n",
    "\n",
    "    \"<topics_of_interest>\\n\"\n",
    "    \"'Topics of interest' are topics that should be highlighted in the summary if they are discussed because the impact of activites on these topics \"\n",
    "    \"are especially important. These topics are nutrition, health, food security, poverty reduction, livelihood, jobs, gender equality, youth inlcusion, social inclusion, \"\n",
    "    \"climate adaptation, climate mitigation, environmental health, and biodiversity.\\n\"\n",
    "    \"</topics_of_interest>\\n\"\n",
    "\n",
    "    \"<evidence>\\n\"\n",
    "    \"{text}\\n\"\n",
    "    \"</evidence>\"\n",
    "    \"\\n\\nAssistant:\\n<summary>\\n\"\n",
    ")\n",
    "summary_prompt = PromptTemplate.from_template(template=summary_template, partial_variables={\"project_title\": project_title, \"description\": description})"
   ]
  },
  {
   "cell_type": "code",
   "execution_count": 25,
   "metadata": {},
   "outputs": [
    {
     "name": "stdout",
     "output_type": "stream",
     "text": [
      "Human:<admin>You are a researcher at CGIAR. Your task is to review projects submitted by other researchers and evaluate them across a number of dimensions.<admin>\n",
      "\n",
      "Human: This task consist of the following steps:\n",
      "Step 1: Review the project title and its description. Stop and think about it. This will provide you a general understanding of the evidence that will be presented in the next step.\n",
      "Step 2: Review the evidence provided.\n",
      "Step 3: Review the texts inside the <geographic_focus></geographic_focus> and <topics_of_interest></topics_of_interest> XML tags. These texts will be useful in carrying out the next step.\n",
      "Step 4: Generate a list of quotes from the evidence that highlight the important activities that took place as well as the findings made and any results. Also include quotes that characterize the geographic focus of the aforementioned activities and any topics of interest that are explicitly referenced in the evidence. Write them down word for word inside <thinking></thinking> XML tags. This is a space for you to write down relevant content and will not be shown to the user.\n",
      "Step 5: Using the quotes inside <thinking></thinking>, write a 750 word summary in a professional, academic 3rd person voice. Make sure to note all major activities that took place within the evidence. In addition to all major activites, the summary should identify the geographic focus of these activities and make sure to explicitly state any of the topics of interest if and only if they are referenced in the evidence. Both geographic focus and topics of interest are clearly defined below.Make sure to justify why all particular topics of interest are identified. Finally, close the summary by restating all key findings.\n",
      "Step 6: Review the summary written in step 5. If necessary re-write it to emphasize conciseness without losing any details. Return the summary without any introduction between the XML tag <summary>.\n",
      "IMPORTANT: Keep in mind that the audience consist of academic researchers. Never refer to yourself in the first person in this summary. Refer to all actions in the past tense. Be sure to read the entire set of instructions carefully before beginning. Do not go to the next step without making sure the previous step has been completed.\n",
      "<project_title>\n",
      "{project_title}\n",
      "</project_title>\n",
      "<description>\n",
      "{description}\n",
      "</description>\n",
      "<geographic_focus>\n",
      "'Geographic focus' consist of determining if the major activities are 'Global', 'Regional', 'National', or 'Sub-national'. 'Regional' refers to whether the activities focus on a United Nations geoscheme subregion. 'National' refers to whether the activities focus on a country. 'Sub-national' refers to whether the activites focus on a WHO subnational region without a country. The geographic focus is the largest category that is explicitly mentioned in the context of an activity carried out in the evidence.\n",
      "</geographic_focus>\n",
      "<topics_of_interest>\n",
      "'Topics of interest' are topics that should be highlighted in the summary if they are discussed because the impact of activites on these topics are especially important. These topics are nutrition, health, food security, poverty reduction, livelihood, jobs, gender equality, youth inlcusion, social inclusion, climate adaptation, climate mitigation, environmental health, and biodiversity.\n",
      "</topics_of_interest>\n",
      "<evidence>\n",
      "{text}\n",
      "</evidence>\n",
      "\n",
      "Assistant:\n",
      "<summary>\n",
      "\n"
     ]
    }
   ],
   "source": [
    "print(summary_template)"
   ]
  },
  {
   "cell_type": "code",
   "execution_count": 40,
   "metadata": {},
   "outputs": [],
   "source": [
    "llm_chain = LLMChain(llm=llm_bedrock, prompt=summary_prompt, verbose=VERBOSE)"
   ]
  },
  {
   "cell_type": "code",
   "execution_count": 41,
   "metadata": {},
   "outputs": [],
   "source": [
    "stuff_chain = StuffDocumentsChain(llm_chain=llm_chain, document_prompt=document_prompt, document_variable_name=\"text\", verbose=VERBOSE)"
   ]
  },
  {
   "cell_type": "code",
   "execution_count": null,
   "metadata": {},
   "outputs": [],
   "source": [
    "evidence_summary = stuff_chain.run({\"input_documents\": evidence_docs})\n",
    "evidence_summary = \"<summary>\\n\"+evidence_summary"
   ]
  },
  {
   "cell_type": "code",
   "execution_count": 45,
   "metadata": {},
   "outputs": [
    {
     "name": "stdout",
     "output_type": "stream",
     "text": [
      "<summary>\n",
      "The evidence presented describes a project that developed a methodological framework to assess the degree to which policy outputs and strategy documents in eight African countries display awareness of climate-related security risks and climate peace opportunities. The key activities carried out include:\n",
      "\n",
      "- Developing a methodological framework to assess the climate security sensitivity of policies and strategies from climate/environment and peace/security sectors. The framework evaluates awareness, strategic coherence, and implementation coherence.\n",
      "\n",
      "- Applying the framework to analyze 85 national and regional policies/strategies from 8 African countries - Kenya, Mali, Nigeria, Senegal, Somalia, South Sudan, Uganda, and Zimbabwe. \n",
      "\n",
      "- Finding that despite some recognition of climate-conflict linkages, a clear conceptual understanding of climate security is lacking. Climate/environment policies demonstrate greater awareness and cross-sectoral engagement than peace/security policies.  \n",
      "\n",
      "- Identifying opportunities to integrate climate security considerations into existing objectives, priorities, instruments, and activities, particularly in climate/environment policies.\n",
      "\n",
      "The geographic focus of the assessment is at the national and regional level in sub-Saharan Africa. The topics of interest explicitly referenced are climate adaptation, climate mitigation, and environmental health. \n",
      "\n",
      "In summary, the project developed an innovative methodological framework to assess the climate security sensitivity of policies and strategies. The analysis of African policies revealed limited conceptual coherence on climate security but identified opportunities to further integrate climate considerations into objectives and activities, especially in climate/environment policies. The findings underscore the need for greater conceptual clarity on climate security and more robust cross-sectoral linkages between climate/environment and peace/security policies.\n",
      "</summary>\n"
     ]
    }
   ],
   "source": [
    "print(evidence_summary)"
   ]
  },
  {
   "cell_type": "markdown",
   "metadata": {},
   "source": [
    "### Determine Geographic Location/Impact Area Tags"
   ]
  },
  {
   "cell_type": "code",
   "execution_count": 46,
   "metadata": {},
   "outputs": [],
   "source": [
    "output_parser = PydanticOutputParser(pydantic_object=ImpactAreaTags)\n",
    "format_instructions = output_parser.get_format_instructions()"
   ]
  },
  {
   "cell_type": "code",
   "execution_count": 47,
   "metadata": {},
   "outputs": [
    {
     "name": "stdout",
     "output_type": "stream",
     "text": [
      "The output should be formatted as a JSON instance that conforms to the JSON schema below.\n",
      "\n",
      "As an example, for the schema {\"properties\": {\"foo\": {\"title\": \"Foo\", \"description\": \"a list of strings\", \"type\": \"array\", \"items\": {\"type\": \"string\"}}}, \"required\": [\"foo\"]}\n",
      "the object {\"foo\": [\"bar\", \"baz\"]} is a well-formatted instance of the schema. The object {\"properties\": {\"foo\": [\"bar\", \"baz\"]}} is not well-formatted.\n",
      "\n",
      "Here is the output schema:\n",
      "```\n",
      "{\"properties\": {\"geographic_location\": {\"$ref\": \"#/definitions/GeographicLocationOutput\"}, \"impact_areas\": {\"$ref\": \"#/definitions/ImpactAreasOutput\"}, \"impact_justifications\": {\"$ref\": \"#/definitions/ImpactJustifications\"}}, \"required\": [\"geographic_location\", \"impact_areas\", \"impact_justifications\"], \"definitions\": {\"GeographicLocationOutput\": {\"title\": \"GeographicLocationOutput\", \"type\": \"object\", \"properties\": {\"geographic_focus\": {\"title\": \"Geographic Focus\", \"description\": \"The geographic focus of the project.\", \"type\": \"string\"}, \"region\": {\"title\": \"Region\", \"description\": \"The region where the project is being implemented.\", \"type\": \"string\"}, \"country\": {\"title\": \"Country\", \"description\": \"The country where the project took place.\", \"type\": \"string\"}}, \"required\": [\"geographic_focus\", \"region\", \"country\"]}, \"ImpactAreasOutput\": {\"title\": \"ImpactAreasOutput\", \"type\": \"object\", \"properties\": {\"gender_tag\": {\"title\": \"Gender tag\", \"description\": \"The gender tag of the research results.\", \"type\": \"string\"}, \"climate_change_tag\": {\"title\": \"Climate Change tag\", \"description\": \"The climate change tag of the research results.\", \"type\": \"string\"}, \"nutrition_tag\": {\"title\": \"Nutrition tag\", \"description\": \"The nutrition tag of the research results.\", \"type\": \"string\"}, \"environment_tag\": {\"title\": \"Environment and/or biodiversity tag\", \"description\": \"The environment tag of the research results.\", \"type\": \"string\"}, \"poverty_tag\": {\"title\": \"Poverty tag\", \"description\": \"The poverty tag of the research results.\", \"type\": \"string\"}}, \"required\": [\"gender_tag\", \"climate_change_tag\", \"nutrition_tag\", \"environment_tag\", \"poverty_tag\"]}, \"ImpactJustifications\": {\"title\": \"ImpactJustifications\", \"type\": \"object\", \"properties\": {\"gender_tag_just\": {\"title\": \"Gender tag justification\", \"description\": \"A single sentence justification for why the gender tag label was selected.\", \"type\": \"string\"}, \"climate_change_tag_just\": {\"title\": \"Climate Change tag justification\", \"description\": \"A single sentence justification for why the climate change tag label was selected.\", \"type\": \"string\"}, \"nutrition_tag_just\": {\"title\": \"Nutrition tag justification\", \"description\": \"A single sentence justification for why the nutrition tag label was selected.\", \"type\": \"string\"}, \"environment_tag_just\": {\"title\": \"Environment and/or biodiversity tag justification\", \"description\": \"A single sentence justification for why the environment tag label was selected.\", \"type\": \"string\"}, \"poverty_tag_just\": {\"title\": \"Poverty tag justification\", \"description\": \"A single sentence justification for why the poverty tag label was selected.\", \"type\": \"string\"}}, \"required\": [\"gender_tag_just\", \"climate_change_tag_just\", \"nutrition_tag_just\", \"environment_tag_just\", \"poverty_tag_just\"]}}}\n",
      "```\n"
     ]
    }
   ],
   "source": [
    "print(format_instructions)"
   ]
  },
  {
   "cell_type": "code",
   "execution_count": 48,
   "metadata": {},
   "outputs": [],
   "source": [
    "GEO_LOC_LABELS = \"\"\"\n",
    "The labels for Geographic focus are: 'Global', 'Regional', 'National', 'Sub-national'.\n",
    "The labels for Region are all the United Nations geoscheme subregions\".\n",
    "The labels for Country are any of the countries in the world.\n",
    "\"\"\"\n",
    "\n",
    "IA_OBJECTIVES = \"\"\"\n",
    "Below is a lookup table of CGIAR strategic objectives and their definitions.\n",
    "\n",
    "| Impact Area | Impact Area Abbreviation | Objective |\n",
    "| Gender equality, youth and social inclusion | Gender | To close the gender gap in rights to economic resources, access to ownership and control over land and natural resources for over 500 million women who work in food, land and water systems. |\n",
    "| Gender equality, youth and social inclusion | Gender | To offer rewardable opportunities to 267 million young people who are not in employment, education or training. |\n",
    "| Climate adaptation and mitigation | Climate | Turn agriculture and forest systems into a net sink for carbon by 2050 (Climate Mitigation target). |\n",
    "| Climate adaptation and mitigation | Climate | Equip 500 million small-scale producers to be more resilient by 2030 to climate shocks, with climate adaptation solutions available through national innovation systems (Climate Adaptation target). |\n",
    "| Climate adaptation and mitigation | Climate | Support countries in implementing National Adaptation Plans and Nationally Determined Contributions, and increased ambition in climate actions by 2030 (Climate Policy target). This support could possibly be in the form of education or training. |\n",
    "| Nutrition, health and food security | Nutrition | To end hunger for all and enable affordable, healthy diets for the 3 billion people who do not currently have access to safe and nutritious food. |\n",
    "| Nutrition, health and food security | Nutrition | To reduce cases of foodborne illness (600 million annually) and zoonotic disease (1 billion annually) by one third. |\n",
    "| Environmental health and biodiversity | Environment | Stay within planetary and regional environmental boundaries: 1. consumptive water use in food production of less than 2,500 km3 per year (with a focus on the most stressed basins) 2. zero net deforestation 3. nitrogen application of 90 Tg per year (with a redistribution towards low-input farming systems) and increased use efficiency; and phosphorus application of 10 Tg per year. |\n",
    "| Environmental health and biodiversity | Environment | Maintain the genetic diversity of seed varieties, cultivated plants and farmed and domesticated animals and their related wild species, including through soundly managed genebanks at the national, regional, and international levels. |\n",
    "| Environmental health and biodiversity | Environment | In addition, water conservation and management, restoration of degraded lands/soils, restoration of biodiversity in situ, and management of pollution related to food systems are key areas of environmental impacts to which the CGIAR should contribute. |\n",
    "| Environmental health and biodiversity | Environment | All of the 2030 targets that are organized as part of the 4 long-term goals for 2050 included in the Kunming-Montreal Global Biodiversity Framework. |\n",
    "| Environmental health and biodiversity | Environment | All of the targets and indicators included in UN Sustainable Development Goals 2, 6, 12, 14, 15 and 17 |\n",
    "| Poverty reduction, livelihoods and jobs | Poverty | Lift at least 500 million people living in rural areas above the extreme poverty line of US $1.90 per day (2011 PPP). |\n",
    "| Poverty reduction, livelihoods and jobs | Poverty | Reduce by at least half the proportion of men, women and children of all ages living in poverty in all its dimensions, according to national definitions. |\n",
    "\"\"\"\n",
    "\n",
    "IA_LABELS = \"\"\"\n",
    "The Impact Area labels are defined as follows:\n",
    "\n",
    "| Tag | Objective |\n",
    "| Principal | The research activity principally addressses one of the objectives for the impact area. The impact area is the main objective of the research activity and fundamental to its design and expected results. The research activity would not have been undertaken without consideration of this impact area. |\n",
    "| Significant | The research activity contributes in significant ways to the impact area, even though it is not the principal focus of the activity. The impact area is an important and deliberate objective of the research activity but not the main reason for its undertaking. |\n",
    "| Not Targeted | The research activity has not been found to target any aspect of the impact area. |\n",
    "\"\"\"\n",
    "\n",
    "# source - QA Assessor Guidance 2023_v5_pub.pdf; Guidelines for gender equality tagging.pdf - https://drive.google.com/file/d/13PSfIH-nN32hCsPTznACmwhU6N5ggoje/view"
   ]
  },
  {
   "cell_type": "code",
   "execution_count": 49,
   "metadata": {},
   "outputs": [],
   "source": [
    "geo_loc_ia_tags_template = (\n",
    "     \"You are a researcher at CGIAR. Your task is to review projects submitted by other researchers and determine \"\n",
    "     \"the appropriate label for these projects for 8 dimensions.\"\n",
    "     \"Three of these dimensions are 'Geographic focus', 'Region' and 'Country'. They are collectively referred to as 'Geographic Location'.\\n\"\n",
    "     \"The remaining 5 dimensions are 'Gender equality, youth and social inclusion', 'Climate adaptation and mitigation', \"\n",
    "     \"'Nutrition, health and food security', 'Environmental health and biodiversity' and 'Poverty reduction, livelihoods and jobs'. \"\n",
    "     \"These dimensions are collectively referred to as 'Impact Areas'.\\n\"\n",
    "     \"Another researcher has already prepared a summary of the project for you to use as a reference for selecting the appropriate label for each dimension.\\n\\n\"\n",
    "\n",
    "     \"The steps for the first task are as follows:\\n\"\n",
    "     \"This task consist of two sub-tasks. The first is to determine the Geographical Location labels. The second sub-task is to determine the Impact Area labels.\\n\"\n",
    "     \"Step 1: Review the sections labeled Project Title, Description, and Geographic Location Labels. Geographic Location Labels provides a list of the labels for each label.\\n\"\n",
    "     \"Step 2: Review the summary provided and return the labels that corresponds with it for 'Geographic focus', 'Region' and 'Country'.\\n\"\n",
    "     \"The steps for the second task are as follows:\\n\"\n",
    "     \"Step 1: Review the section labeled Impact Area Objectives. It contains a table of the impact areas and the objectives that comprise each of them.\\n\"\n",
    "     \"Step 2: Review the section labeled Impact Area Labels. It provides definitions of the tags for tagging the Impact Areas.\\n\"\n",
    "\n",
    "     \"IMPORTANT: Keep in mind that the audience consist of academic researchers. Never refer to yourself in the first person in this summary. \"\n",
    "     \"Refer to all actions in the past tense. Be sure to read the entire set of instructions carefully before beginning. \"\n",
    "     \"Do not go to the next step without making sure the previous step has been completed.\\n\\n\"\n",
    "\n",
    "     \"Geographic Location Labels:\\n {geo_loc_labels}\\n\\n\"\n",
    "     \"Impact Area Objectives:\\n {ia_objectives}\\n\\n\"\n",
    "     \"Impact Area Labels:\\n {ia_labels}\\n\\n\"\n",
    "     \"Summary:\\n{text}\\n\\n\"\n",
    "\n",
    "     \"{format_instructions}\"\n",
    "     \"Only return the resulting JSON object. DO NOT return any other text.\"\n",
    ")\n",
    "geo_loc_ia_tags_prompt = PromptTemplate.from_template(template=geo_loc_ia_tags_template, partial_variables={\"geo_loc_labels\": GEO_LOC_LABELS, \"ia_objectives\": IA_OBJECTIVES, \"ia_labels\": IA_LABELS, \"format_instructions\": format_instructions})"
   ]
  },
  {
   "cell_type": "code",
   "execution_count": 50,
   "metadata": {},
   "outputs": [],
   "source": [
    "llm_chain = LLMChain(llm=llm_openai, prompt=geo_loc_ia_tags_prompt, verbose=VERBOSE)"
   ]
  },
  {
   "cell_type": "code",
   "execution_count": 51,
   "metadata": {},
   "outputs": [],
   "source": [
    "stuff_chain = StuffDocumentsChain(llm_chain=llm_chain, document_prompt=document_prompt, document_variable_name=\"text\", verbose=VERBOSE)"
   ]
  },
  {
   "cell_type": "code",
   "execution_count": 52,
   "metadata": {},
   "outputs": [],
   "source": [
    "summary = Document(page_content=evidence_summary, metadata={\"source\": \"Claude v2\"})"
   ]
  },
  {
   "cell_type": "code",
   "execution_count": 53,
   "metadata": {},
   "outputs": [
    {
     "name": "stdout",
     "output_type": "stream",
     "text": [
      "<summary>\n",
      "The evidence presented describes a project that developed a methodological framework to assess the degree to which policy outputs and strategy documents in eight African countries display awareness of climate-related security risks and climate peace opportunities. The key activities carried out include:\n",
      "\n",
      "- Developing a methodological framework to assess the climate security sensitivity of policies and strategies from climate/environment and peace/security sectors. The framework evaluates awareness, strategic coherence, and implementation coherence.\n",
      "\n",
      "- Applying the framework to analyze 85 national and regional policies/strategies from 8 African countries - Kenya, Mali, Nigeria, Senegal, Somalia, South Sudan, Uganda, and Zimbabwe. \n",
      "\n",
      "- Finding that despite some recognition of climate-conflict linkages, a clear conceptual understanding of climate security is lacking. Climate/environment policies demonstrate greater awareness and cross-sectoral engagement than peace/security policies.  \n",
      "\n",
      "- Identifying opportunities to integrate climate security considerations into existing objectives, priorities, instruments, and activities, particularly in climate/environment policies.\n",
      "\n",
      "The geographic focus of the assessment is at the national and regional level in sub-Saharan Africa. The topics of interest explicitly referenced are climate adaptation, climate mitigation, and environmental health. \n",
      "\n",
      "In summary, the project developed an innovative methodological framework to assess the climate security sensitivity of policies and strategies. The analysis of African policies revealed limited conceptual coherence on climate security but identified opportunities to further integrate climate considerations into objectives and activities, especially in climate/environment policies. The findings underscore the need for greater conceptual clarity on climate security and more robust cross-sectoral linkages between climate/environment and peace/security policies.\n",
      "</summary>\n"
     ]
    }
   ],
   "source": [
    "print(summary.page_content)"
   ]
  },
  {
   "cell_type": "code",
   "execution_count": 54,
   "metadata": {},
   "outputs": [
    {
     "name": "stdout",
     "output_type": "stream",
     "text": [
      "\n",
      "\n",
      "\u001b[1m> Entering new StuffDocumentsChain chain...\u001b[0m\n",
      "\n",
      "\n",
      "\u001b[1m> Entering new LLMChain chain...\u001b[0m\n",
      "Prompt after formatting:\n",
      "\u001b[32;1m\u001b[1;3mYou are a researcher at CGIAR. Your task is to review projects submitted by other researchers and determine the appropriate label for these projects for 8 dimensions.Three of these dimensions are 'Geographic focus', 'Region' and 'Country'. They are collectively referred to as 'Geographic Location'.\n",
      "The remaining 5 dimensions are 'Gender equality, youth and social inclusion', 'Climate adaptation and mitigation', 'Nutrition, health and food security', 'Environmental health and biodiversity' and 'Poverty reduction, livelihoods and jobs'. These dimensions are collectively referred to as 'Impact Areas'.\n",
      "Another researcher has already prepared a summary of the project for you to use as a reference for selecting the appropriate label for each dimension.\n",
      "\n",
      "The steps for the first task are as follows:\n",
      "This task consist of two sub-tasks. The first is to determine the Geographical Location labels. The second sub-task is to determine the Impact Area labels.\n",
      "Step 1: Review the sections labeled Project Title, Description, and Geographic Location Labels. Geographic Location Labels provides a list of the labels for each label.\n",
      "Step 2: Review the summary provided and return the labels that corresponds with it for 'Geographic focus', 'Region' and 'Country'.\n",
      "The steps for the second task are as follows:\n",
      "Step 1: Review the section labeled Impact Area Objectives. It contains a table of the impact areas and the objectives that comprise each of them.\n",
      "Step 2: Review the section labeled Impact Area Labels. It provides definitions of the tags for tagging the Impact Areas.\n",
      "IMPORTANT: Keep in mind that the audience consist of academic researchers. Never refer to yourself in the first person in this summary. Refer to all actions in the past tense. Be sure to read the entire set of instructions carefully before beginning. Do not go to the next step without making sure the previous step has been completed.\n",
      "\n",
      "Geographic Location Labels:\n",
      " \n",
      "The labels for Geographic focus are: 'Global', 'Regional', 'National', 'Sub-national'.\n",
      "The labels for Region are all the United Nations geoscheme subregions\".\n",
      "The labels for Country are any of the countries in the world.\n",
      "\n",
      "\n",
      "Impact Area Objectives:\n",
      " \n",
      "Below is a lookup table of CGIAR strategic objectives and their definitions.\n",
      "\n",
      "| Impact Area | Impact Area Abbreviation | Objective |\n",
      "| Gender equality, youth and social inclusion | Gender | To close the gender gap in rights to economic resources, access to ownership and control over land and natural resources for over 500 million women who work in food, land and water systems. |\n",
      "| Gender equality, youth and social inclusion | Gender | To offer rewardable opportunities to 267 million young people who are not in employment, education or training. |\n",
      "| Climate adaptation and mitigation | Climate | Turn agriculture and forest systems into a net sink for carbon by 2050 (Climate Mitigation target). |\n",
      "| Climate adaptation and mitigation | Climate | Equip 500 million small-scale producers to be more resilient by 2030 to climate shocks, with climate adaptation solutions available through national innovation systems (Climate Adaptation target). |\n",
      "| Climate adaptation and mitigation | Climate | Support countries in implementing National Adaptation Plans and Nationally Determined Contributions, and increased ambition in climate actions by 2030 (Climate Policy target). This support could possibly be in the form of education or training. |\n",
      "| Nutrition, health and food security | Nutrition | To end hunger for all and enable affordable, healthy diets for the 3 billion people who do not currently have access to safe and nutritious food. |\n",
      "| Nutrition, health and food security | Nutrition | To reduce cases of foodborne illness (600 million annually) and zoonotic disease (1 billion annually) by one third. |\n",
      "| Environmental health and biodiversity | Environment | Stay within planetary and regional environmental boundaries: 1. consumptive water use in food production of less than 2,500 km3 per year (with a focus on the most stressed basins) 2. zero net deforestation 3. nitrogen application of 90 Tg per year (with a redistribution towards low-input farming systems) and increased use efficiency; and phosphorus application of 10 Tg per year. |\n",
      "| Environmental health and biodiversity | Environment | Maintain the genetic diversity of seed varieties, cultivated plants and farmed and domesticated animals and their related wild species, including through soundly managed genebanks at the national, regional, and international levels. |\n",
      "| Environmental health and biodiversity | Environment | In addition, water conservation and management, restoration of degraded lands/soils, restoration of biodiversity in situ, and management of pollution related to food systems are key areas of environmental impacts to which the CGIAR should contribute. |\n",
      "| Environmental health and biodiversity | Environment | All of the 2030 targets that are organized as part of the 4 long-term goals for 2050 included in the Kunming-Montreal Global Biodiversity Framework. |\n",
      "| Environmental health and biodiversity | Environment | All of the targets and indicators included in UN Sustainable Development Goals 2, 6, 12, 14, 15 and 17 |\n",
      "| Poverty reduction, livelihoods and jobs | Poverty | Lift at least 500 million people living in rural areas above the extreme poverty line of US $1.90 per day (2011 PPP). |\n",
      "| Poverty reduction, livelihoods and jobs | Poverty | Reduce by at least half the proportion of men, women and children of all ages living in poverty in all its dimensions, according to national definitions. |\n",
      "\n",
      "\n",
      "Impact Area Labels:\n",
      " \n",
      "The Impact Area labels are defined as follows:\n",
      "\n",
      "| Tag | Objective |\n",
      "| Principal | The research activity principally addressses one of the objectives for the impact area. The impact area is the main objective of the research activity and fundamental to its design and expected results. The research activity would not have been undertaken without consideration of this impact area. |\n",
      "| Significant | The research activity contributes in significant ways to the impact area, even though it is not the principal focus of the activity. The impact area is an important and deliberate objective of the research activity but not the main reason for its undertaking. |\n",
      "| Not Targeted | The research activity has not been found to target any aspect of the impact area. |\n",
      "\n",
      "\n",
      "Summary:\n",
      "<summary>\n",
      "The evidence presented describes a project that developed a methodological framework to assess the degree to which policy outputs and strategy documents in eight African countries display awareness of climate-related security risks and climate peace opportunities. The key activities carried out include:\n",
      "\n",
      "- Developing a methodological framework to assess the climate security sensitivity of policies and strategies from climate/environment and peace/security sectors. The framework evaluates awareness, strategic coherence, and implementation coherence.\n",
      "\n",
      "- Applying the framework to analyze 85 national and regional policies/strategies from 8 African countries - Kenya, Mali, Nigeria, Senegal, Somalia, South Sudan, Uganda, and Zimbabwe. \n",
      "\n",
      "- Finding that despite some recognition of climate-conflict linkages, a clear conceptual understanding of climate security is lacking. Climate/environment policies demonstrate greater awareness and cross-sectoral engagement than peace/security policies.  \n",
      "\n",
      "- Identifying opportunities to integrate climate security considerations into existing objectives, priorities, instruments, and activities, particularly in climate/environment policies.\n",
      "\n",
      "The geographic focus of the assessment is at the national and regional level in sub-Saharan Africa. The topics of interest explicitly referenced are climate adaptation, climate mitigation, and environmental health. \n",
      "\n",
      "In summary, the project developed an innovative methodological framework to assess the climate security sensitivity of policies and strategies. The analysis of African policies revealed limited conceptual coherence on climate security but identified opportunities to further integrate climate considerations into objectives and activities, especially in climate/environment policies. The findings underscore the need for greater conceptual clarity on climate security and more robust cross-sectoral linkages between climate/environment and peace/security policies.\n",
      "</summary>\n",
      "\n",
      "The output should be formatted as a JSON instance that conforms to the JSON schema below.\n",
      "\n",
      "As an example, for the schema {\"properties\": {\"foo\": {\"title\": \"Foo\", \"description\": \"a list of strings\", \"type\": \"array\", \"items\": {\"type\": \"string\"}}}, \"required\": [\"foo\"]}\n",
      "the object {\"foo\": [\"bar\", \"baz\"]} is a well-formatted instance of the schema. The object {\"properties\": {\"foo\": [\"bar\", \"baz\"]}} is not well-formatted.\n",
      "\n",
      "Here is the output schema:\n",
      "```\n",
      "{\"properties\": {\"geographic_location\": {\"$ref\": \"#/definitions/GeographicLocationOutput\"}, \"impact_areas\": {\"$ref\": \"#/definitions/ImpactAreasOutput\"}, \"impact_justifications\": {\"$ref\": \"#/definitions/ImpactJustifications\"}}, \"required\": [\"geographic_location\", \"impact_areas\", \"impact_justifications\"], \"definitions\": {\"GeographicLocationOutput\": {\"title\": \"GeographicLocationOutput\", \"type\": \"object\", \"properties\": {\"geographic_focus\": {\"title\": \"Geographic Focus\", \"description\": \"The geographic focus of the project.\", \"type\": \"string\"}, \"region\": {\"title\": \"Region\", \"description\": \"The region where the project is being implemented.\", \"type\": \"string\"}, \"country\": {\"title\": \"Country\", \"description\": \"The country where the project took place.\", \"type\": \"string\"}}, \"required\": [\"geographic_focus\", \"region\", \"country\"]}, \"ImpactAreasOutput\": {\"title\": \"ImpactAreasOutput\", \"type\": \"object\", \"properties\": {\"gender_tag\": {\"title\": \"Gender tag\", \"description\": \"The gender tag of the research results.\", \"type\": \"string\"}, \"climate_change_tag\": {\"title\": \"Climate Change tag\", \"description\": \"The climate change tag of the research results.\", \"type\": \"string\"}, \"nutrition_tag\": {\"title\": \"Nutrition tag\", \"description\": \"The nutrition tag of the research results.\", \"type\": \"string\"}, \"environment_tag\": {\"title\": \"Environment and/or biodiversity tag\", \"description\": \"The environment tag of the research results.\", \"type\": \"string\"}, \"poverty_tag\": {\"title\": \"Poverty tag\", \"description\": \"The poverty tag of the research results.\", \"type\": \"string\"}}, \"required\": [\"gender_tag\", \"climate_change_tag\", \"nutrition_tag\", \"environment_tag\", \"poverty_tag\"]}, \"ImpactJustifications\": {\"title\": \"ImpactJustifications\", \"type\": \"object\", \"properties\": {\"gender_tag_just\": {\"title\": \"Gender tag justification\", \"description\": \"A single sentence justification for why the gender tag label was selected.\", \"type\": \"string\"}, \"climate_change_tag_just\": {\"title\": \"Climate Change tag justification\", \"description\": \"A single sentence justification for why the climate change tag label was selected.\", \"type\": \"string\"}, \"nutrition_tag_just\": {\"title\": \"Nutrition tag justification\", \"description\": \"A single sentence justification for why the nutrition tag label was selected.\", \"type\": \"string\"}, \"environment_tag_just\": {\"title\": \"Environment and/or biodiversity tag justification\", \"description\": \"A single sentence justification for why the environment tag label was selected.\", \"type\": \"string\"}, \"poverty_tag_just\": {\"title\": \"Poverty tag justification\", \"description\": \"A single sentence justification for why the poverty tag label was selected.\", \"type\": \"string\"}}, \"required\": [\"gender_tag_just\", \"climate_change_tag_just\", \"nutrition_tag_just\", \"environment_tag_just\", \"poverty_tag_just\"]}}}\n",
      "```Only return the resulting JSON object. DO NOT return any other text.\u001b[0m\n",
      "\n",
      "\u001b[1m> Finished chain.\u001b[0m\n",
      "\n",
      "\u001b[1m> Finished chain.\u001b[0m\n"
     ]
    }
   ],
   "source": [
    "geo_loc_ia_tags = stuff_chain.run({\"input_documents\": [summary]})"
   ]
  },
  {
   "cell_type": "code",
   "execution_count": 55,
   "metadata": {},
   "outputs": [
    {
     "name": "stdout",
     "output_type": "stream",
     "text": [
      "{\n",
      "  \"geographic_location\": {\n",
      "    \"geographic_focus\": \"Regional\",\n",
      "    \"region\": \"Sub-Saharan Africa\",\n",
      "    \"country\": \"Kenya, Mali, Nigeria, Senegal, Somalia, South Sudan, Uganda, Zimbabwe\"\n",
      "  },\n",
      "  \"impact_areas\": {\n",
      "    \"gender_tag\": \"Not Targeted\",\n",
      "    \"climate_change_tag\": \"Principal\",\n",
      "    \"nutrition_tag\": \"Not Targeted\",\n",
      "    \"environment_tag\": \"Principal\",\n",
      "    \"poverty_tag\": \"Not Targeted\"\n",
      "  },\n",
      "  \"impact_justifications\": {\n",
      "    \"gender_tag_just\": \"The project did not target any aspect of gender equality, youth and social inclusion.\",\n",
      "    \"climate_change_tag_just\": \"The project principally addressed climate adaptation and mitigation by developing a framework to assess climate security sensitivity of policies and strategies.\",\n",
      "    \"nutrition_tag_just\": \"The project did not target any aspect of nutrition, health and food security.\",\n",
      "    \"environment_tag_just\": \"The project principally addressed environmental health and biodiversity by integrating climate security considerations into existing objectives, priorities, instruments, and activities.\",\n",
      "    \"poverty_tag_just\": \"The project did not target any aspect of poverty reduction, livelihoods and jobs.\"\n",
      "  }\n",
      "}\n"
     ]
    }
   ],
   "source": [
    "print(geo_loc_ia_tags)"
   ]
  },
  {
   "cell_type": "code",
   "execution_count": 56,
   "metadata": {},
   "outputs": [
    {
     "name": "stdout",
     "output_type": "stream",
     "text": [
      "{'geographic_location': {'geographic_focus': 'Regional', 'region': 'Sub-Saharan Africa', 'country': 'Kenya, Mali, Nigeria, Senegal, Somalia, South Sudan, Uganda, Zimbabwe'}, 'impact_areas': {'gender_tag': 'Not Targeted', 'climate_change_tag': 'Principal', 'nutrition_tag': 'Not Targeted', 'environment_tag': 'Principal', 'poverty_tag': 'Not Targeted'}, 'impact_justifications': {'gender_tag_just': 'The project did not target any aspect of gender equality, youth and social inclusion.', 'climate_change_tag_just': 'The project principally addressed climate adaptation and mitigation by developing a framework to assess climate security sensitivity of policies and strategies.', 'nutrition_tag_just': 'The project did not target any aspect of nutrition, health and food security.', 'environment_tag_just': 'The project principally addressed environmental health and biodiversity by integrating climate security considerations into existing objectives, priorities, instruments, and activities.', 'poverty_tag_just': 'The project did not target any aspect of poverty reduction, livelihoods and jobs.'}}\n"
     ]
    }
   ],
   "source": [
    "result = json.loads(geo_loc_ia_tags)\n",
    "print(result)"
   ]
  }
 ],
 "metadata": {
  "kernelspec": {
   "display_name": "base",
   "language": "python",
   "name": "python3"
  },
  "language_info": {
   "codemirror_mode": {
    "name": "ipython",
    "version": 3
   },
   "file_extension": ".py",
   "mimetype": "text/x-python",
   "name": "python",
   "nbconvert_exporter": "python",
   "pygments_lexer": "ipython3",
   "version": "3.11.5"
  }
 },
 "nbformat": 4,
 "nbformat_minor": 2
}
